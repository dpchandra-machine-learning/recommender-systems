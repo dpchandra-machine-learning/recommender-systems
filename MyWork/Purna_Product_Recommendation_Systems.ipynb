{
 "cells": [
  {
   "cell_type": "markdown",
   "metadata": {},
   "source": [
    "# Product Recommendation Systems"
   ]
  },
  {
   "cell_type": "markdown",
   "metadata": {},
   "source": [
    "## Data Description \n",
    "Data columns- First three columns are userId, productId, and ratings and the fourth column is timestamp. You can discard the timestamp column as in this case you may not need to use it.\n"
   ]
  },
  {
   "cell_type": "markdown",
   "metadata": {},
   "source": [
    "## Source\n",
    "Amazon Reviews data (http://jmcauley.ucsd.edu/data/amazon/) The\n",
    "repository has several datasets. For this case study, we are using the Electronics\n",
    "dataset."
   ]
  },
  {
   "cell_type": "markdown",
   "metadata": {},
   "source": [
    "## Learning Outcomes \n",
    "● Exploratory Data Analysis\n",
    "● Data Wrangling\n",
    "● Build a Popularity recommender model\n",
    "● Build Collaborative Filtering model\n"
   ]
  },
  {
   "cell_type": "markdown",
   "metadata": {},
   "source": [
    "## Objective\n",
    "To make a recommendation system that recommends at least five(5)\n",
    "new products based on the user's habits."
   ]
  },
  {
   "cell_type": "markdown",
   "metadata": {},
   "source": [
    "# Steps and tasks \n"
   ]
  },
  {
   "cell_type": "markdown",
   "metadata": {},
   "source": [
    "## 1. Read and explore the given dataset. ( Rename column/add headers, plot histograms, find data characteristics) "
   ]
  },
  {
   "cell_type": "markdown",
   "metadata": {},
   "source": [
    "### Import Libraries"
   ]
  },
  {
   "cell_type": "code",
   "execution_count": 9,
   "metadata": {},
   "outputs": [],
   "source": [
    "import numpy as np \n",
    "import pandas as pd \n",
    "\n",
    "\n",
    "import matplotlib.pyplot as plt\n",
    "import seaborn as sns\n",
    "\n",
    "from surprise import SVD\n",
    "from surprise import Dataset\n",
    "from surprise import Reader\n",
    "from surprise import Dataset\n",
    "from surprise import KNNWithMeans\n",
    "from surprise import accuracy\n",
    "from surprise import SVDpp\n",
    "from surprise import SlopeOne\n",
    "from surprise import NMF\n",
    "from surprise import NormalPredictor\n",
    "from surprise import KNNBaseline\n",
    "from surprise import KNNBasic\n",
    "from surprise import KNNWithZScore\n",
    "from surprise import BaselineOnly\n",
    "from surprise import CoClustering\n",
    "from surprise.model_selection import train_test_split\n",
    "from surprise.model_selection.validation import cross_validate\n",
    "\n",
    "from collections import defaultdict\n"
   ]
  },
  {
   "cell_type": "markdown",
   "metadata": {},
   "source": [
    "### Load CSV Data"
   ]
  },
  {
   "cell_type": "code",
   "execution_count": 2,
   "metadata": {},
   "outputs": [
    {
     "data": {
      "text/html": [
       "<div>\n",
       "<style scoped>\n",
       "    .dataframe tbody tr th:only-of-type {\n",
       "        vertical-align: middle;\n",
       "    }\n",
       "\n",
       "    .dataframe tbody tr th {\n",
       "        vertical-align: top;\n",
       "    }\n",
       "\n",
       "    .dataframe thead th {\n",
       "        text-align: right;\n",
       "    }\n",
       "</style>\n",
       "<table border=\"1\" class=\"dataframe\">\n",
       "  <thead>\n",
       "    <tr style=\"text-align: right;\">\n",
       "      <th></th>\n",
       "      <th>UserId</th>\n",
       "      <th>ProductId</th>\n",
       "      <th>Rating</th>\n",
       "      <th>Timestamp</th>\n",
       "    </tr>\n",
       "  </thead>\n",
       "  <tbody>\n",
       "    <tr>\n",
       "      <td>0</td>\n",
       "      <td>AKM1MP6P0OYPR</td>\n",
       "      <td>0132793040</td>\n",
       "      <td>5.0</td>\n",
       "      <td>1365811200</td>\n",
       "    </tr>\n",
       "    <tr>\n",
       "      <td>1</td>\n",
       "      <td>A2CX7LUOHB2NDG</td>\n",
       "      <td>0321732944</td>\n",
       "      <td>5.0</td>\n",
       "      <td>1341100800</td>\n",
       "    </tr>\n",
       "    <tr>\n",
       "      <td>2</td>\n",
       "      <td>A2NWSAGRHCP8N5</td>\n",
       "      <td>0439886341</td>\n",
       "      <td>1.0</td>\n",
       "      <td>1367193600</td>\n",
       "    </tr>\n",
       "    <tr>\n",
       "      <td>3</td>\n",
       "      <td>A2WNBOD3WNDNKT</td>\n",
       "      <td>0439886341</td>\n",
       "      <td>3.0</td>\n",
       "      <td>1374451200</td>\n",
       "    </tr>\n",
       "    <tr>\n",
       "      <td>4</td>\n",
       "      <td>A1GI0U4ZRJA8WN</td>\n",
       "      <td>0439886341</td>\n",
       "      <td>1.0</td>\n",
       "      <td>1334707200</td>\n",
       "    </tr>\n",
       "  </tbody>\n",
       "</table>\n",
       "</div>"
      ],
      "text/plain": [
       "           UserId   ProductId  Rating   Timestamp\n",
       "0   AKM1MP6P0OYPR  0132793040     5.0  1365811200\n",
       "1  A2CX7LUOHB2NDG  0321732944     5.0  1341100800\n",
       "2  A2NWSAGRHCP8N5  0439886341     1.0  1367193600\n",
       "3  A2WNBOD3WNDNKT  0439886341     3.0  1374451200\n",
       "4  A1GI0U4ZRJA8WN  0439886341     1.0  1334707200"
      ]
     },
     "execution_count": 2,
     "metadata": {},
     "output_type": "execute_result"
    }
   ],
   "source": [
    "original_df = pd.read_csv(\"ratings_Electronics.csv\",names=['UserId','ProductId','Rating','Timestamp'])\n",
    "original_df.head()"
   ]
  },
  {
   "cell_type": "code",
   "execution_count": 4,
   "metadata": {},
   "outputs": [
    {
     "data": {
      "text/plain": [
       "(7824482, 4)"
      ]
     },
     "execution_count": 4,
     "metadata": {},
     "output_type": "execute_result"
    }
   ],
   "source": [
    "### Size of the data\n",
    "original_df.shape"
   ]
  },
  {
   "cell_type": "code",
   "execution_count": 5,
   "metadata": {},
   "outputs": [
    {
     "name": "stdout",
     "output_type": "stream",
     "text": [
      "<class 'pandas.core.frame.DataFrame'>\n",
      "RangeIndex: 7824482 entries, 0 to 7824481\n",
      "Data columns (total 4 columns):\n",
      "UserId       object\n",
      "ProductId    object\n",
      "Rating       float64\n",
      "Timestamp    int64\n",
      "dtypes: float64(1), int64(1), object(2)\n",
      "memory usage: 238.8+ MB\n"
     ]
    }
   ],
   "source": [
    "### Fields info\n",
    "original_df.info()"
   ]
  },
  {
   "cell_type": "code",
   "execution_count": 123,
   "metadata": {},
   "outputs": [
    {
     "data": {
      "text/plain": [
       "count    5.000000e+00\n",
       "mean     1.564896e+06\n",
       "std      1.603617e+06\n",
       "min      4.563220e+05\n",
       "25%      6.330730e+05\n",
       "50%      9.017650e+05\n",
       "75%      1.485781e+06\n",
       "max      4.347541e+06\n",
       "Name: Rating, dtype: float64"
      ]
     },
     "execution_count": 123,
     "metadata": {},
     "output_type": "execute_result"
    }
   ],
   "source": [
    "### 5 point summary of distribution of Ratings\n",
    "original_df['Rating'].value_counts().describe()"
   ]
  },
  {
   "cell_type": "code",
   "execution_count": 7,
   "metadata": {},
   "outputs": [
    {
     "data": {
      "text/plain": [
       "UserId       0\n",
       "ProductId    0\n",
       "Rating       0\n",
       "Timestamp    0\n",
       "dtype: int64"
      ]
     },
     "execution_count": 7,
     "metadata": {},
     "output_type": "execute_result"
    }
   ],
   "source": [
    "### Check any missing values\n",
    "original_df.isna().sum()"
   ]
  },
  {
   "cell_type": "code",
   "execution_count": 8,
   "metadata": {},
   "outputs": [
    {
     "data": {
      "text/plain": [
       "UserId       False\n",
       "ProductId    False\n",
       "Rating       False\n",
       "Timestamp    False\n",
       "dtype: bool"
      ]
     },
     "execution_count": 8,
     "metadata": {},
     "output_type": "execute_result"
    }
   ],
   "source": [
    "### Any nulls present\n",
    "original_df.isnull().any()"
   ]
  },
  {
   "cell_type": "code",
   "execution_count": 9,
   "metadata": {},
   "outputs": [
    {
     "name": "stdout",
     "output_type": "stream",
     "text": [
      "Overall Ratings Count =  7824482\n",
      "Unique Users Count   : 4201696\n",
      "Unique Products Count  : 476002\n"
     ]
    }
   ],
   "source": [
    "### Unique User and Product counts\n",
    "print(\"Overall Ratings Count = \",original_df.Rating.count())\n",
    "print(\"Unique Users Count   :\", len(np.unique(original_df.UserId)))\n",
    "print(\"Unique Products Count  :\", len(np.unique(original_df.ProductId)))"
   ]
  },
  {
   "cell_type": "code",
   "execution_count": 73,
   "metadata": {},
   "outputs": [
    {
     "name": "stdout",
     "output_type": "stream",
     "text": [
      "5.0    4347541\n",
      "4.0    1485781\n",
      "1.0     901765\n",
      "3.0     633073\n",
      "2.0     456322\n",
      "Name: Rating, dtype: int64\n"
     ]
    },
    {
     "data": {
      "text/plain": [
       "<matplotlib.axes._subplots.AxesSubplot at 0x1640b7cfb08>"
      ]
     },
     "execution_count": 73,
     "metadata": {},
     "output_type": "execute_result"
    },
    {
     "data": {
      "image/png": "[encoded data removed]",
      "text/plain": [
       "<Figure size 432x288 with 1 Axes>"
      ]
     },
     "metadata": {
      "needs_background": "light"
     },
     "output_type": "display_data"
    }
   ],
   "source": [
    "### Individual Ratings Overall Count & Check the distribution of different ratings with counts.\n",
    "print(original_df['Rating'].value_counts().head())\n",
    "sns.countplot(x='Rating',data=original_df)"
   ]
  },
  {
   "cell_type": "code",
   "execution_count": 74,
   "metadata": {},
   "outputs": [
    {
     "name": "stdout",
     "output_type": "stream",
     "text": [
      "A5JLAU2ARJ0BO     520\n",
      "ADLVFFE4VBT8      501\n",
      "A3OXHLG6DIBRW8    498\n",
      "A6FIAB28IS79      431\n",
      "A680RUE1FDO8B     406\n",
      "A1ODOGXEYECQQ8    380\n",
      "A36K2N527TXXJN    314\n",
      "A2AY4YUOX2N1BQ    311\n",
      "AWPODHOB4GFWL     308\n",
      "ARBKYIVNYWK3C     296\n",
      "Name: UserId, dtype: int64\n"
     ]
    },
    {
     "data": {
      "text/plain": [
       "<matplotlib.axes._subplots.AxesSubplot at 0x1632aeb8c48>"
      ]
     },
     "execution_count": 74,
     "metadata": {},
     "output_type": "execute_result"
    },
    {
     "data": {
      "image/png": "[encoded data removed]",
      "text/plain": [
       "<Figure size 432x288 with 1 Axes>"
      ]
     },
     "metadata": {
      "needs_background": "light"
     },
     "output_type": "display_data"
    }
   ],
   "source": [
    "### Top 10 User Ids with maximum number of ratings given\n",
    "print(original_df['UserId'].value_counts().head(10))\n",
    "sns.countplot(y='UserId',data=original_df, order=original_df.UserId.value_counts().iloc[:10].index)"
   ]
  },
  {
   "cell_type": "code",
   "execution_count": 75,
   "metadata": {},
   "outputs": [
    {
     "name": "stdout",
     "output_type": "stream",
     "text": [
      "B0074BW614    18244\n",
      "B00DR0PDNE    16454\n",
      "B007WTAJTO    14172\n",
      "B0019EHU8G    12285\n",
      "B006GWO5WK    12226\n",
      "B003ELYQGG    11617\n",
      "B003ES5ZUU    10276\n",
      "B007R5YDYA     9907\n",
      "B00622AG6S     9823\n",
      "B0002L5R78     9487\n",
      "Name: ProductId, dtype: int64\n"
     ]
    },
    {
     "data": {
      "text/plain": [
       "<matplotlib.axes._subplots.AxesSubplot at 0x1641ba9f748>"
      ]
     },
     "execution_count": 75,
     "metadata": {},
     "output_type": "execute_result"
    },
    {
     "data": {
      "image/png": "[encoded data removed]",
      "text/plain": [
       "<Figure size 432x288 with 1 Axes>"
      ]
     },
     "metadata": {
      "needs_background": "light"
     },
     "output_type": "display_data"
    }
   ],
   "source": [
    "### Top 10 Product Ids with maximum number of ratings received\n",
    "print(original_df['ProductId'].value_counts().head(10))\n",
    "sns.countplot(y='ProductId',data=original_df, order=original_df.ProductId.value_counts().iloc[:10].index)"
   ]
  },
  {
   "cell_type": "code",
   "execution_count": 93,
   "metadata": {},
   "outputs": [
    {
     "data": {
      "text/plain": [
       "<matplotlib.axes._subplots.AxesSubplot at 0x16417ee0f88>"
      ]
     },
     "execution_count": 93,
     "metadata": {},
     "output_type": "execute_result"
    },
    {
     "data": {
      "image/png": "[encoded data removed]",
      "text/plain": [
       "<Figure size 432x288 with 1 Axes>"
      ]
     },
     "metadata": {
      "needs_background": "light"
     },
     "output_type": "display_data"
    }
   ],
   "source": [
    "### Histogram of user counts for different number of ratings given\n",
    "original_df['UserId'].value_counts().hist()"
   ]
  },
  {
   "cell_type": "markdown",
   "metadata": {},
   "source": [
    "__Observation__: From the histogram we can observe that most of the data is with less than 50 ratings only."
   ]
  },
  {
   "cell_type": "code",
   "execution_count": 101,
   "metadata": {},
   "outputs": [
    {
     "name": "stdout",
     "output_type": "stream",
     "text": [
      "Single user given ratings less than 50 =   4200156\n"
     ]
    }
   ],
   "source": [
    "### Lets check the data count of single user given ratings less than 50 \n",
    "print(\"Single user given ratings less than 50 =  \",(original_df['UserId'].value_counts()[original_df['UserId'].value_counts()<50]).size)\n"
   ]
  },
  {
   "cell_type": "code",
   "execution_count": 105,
   "metadata": {},
   "outputs": [
    {
     "data": {
      "text/plain": [
       "<matplotlib.axes._subplots.AxesSubplot at 0x1640ab59388>"
      ]
     },
     "execution_count": 105,
     "metadata": {},
     "output_type": "execute_result"
    },
    {
     "data": {
      "image/png": "[encoded data removed]",
      "text/plain": [
       "<Figure size 432x288 with 1 Axes>"
      ]
     },
     "metadata": {
      "needs_background": "light"
     },
     "output_type": "display_data"
    }
   ],
   "source": [
    "### Histogram of user counts for different number of ratings given\n",
    "original_df['ProductId'].value_counts().hist()"
   ]
  },
  {
   "cell_type": "markdown",
   "metadata": {},
   "source": [
    "__Observation__: From the histogram we can observe that most of the data is with less than 1550 ratings only."
   ]
  },
  {
   "cell_type": "code",
   "execution_count": 102,
   "metadata": {},
   "outputs": [
    {
     "name": "stdout",
     "output_type": "stream",
     "text": [
      "Single product given ratings less than 1550 =   475648\n"
     ]
    }
   ],
   "source": [
    "### Lets check the data count of single product given ratings less than 1500 \n",
    "print(\"Single product given ratings less than 1550 =  \",(original_df['ProductId'].value_counts()[original_df['ProductId'].value_counts()<1500]).size)\n"
   ]
  },
  {
   "cell_type": "markdown",
   "metadata": {},
   "source": [
    "## 2. Take a subset of the dataset to make it less sparse/ denser. ( For example, keep the users only who has given 50 or more number of ratings ) -"
   ]
  },
  {
   "cell_type": "code",
   "execution_count": 16,
   "metadata": {},
   "outputs": [
    {
     "data": {
      "text/plain": [
       "A5JLAU2ARJ0BO     520\n",
       "ADLVFFE4VBT8      501\n",
       "A3OXHLG6DIBRW8    498\n",
       "A6FIAB28IS79      431\n",
       "A680RUE1FDO8B     406\n",
       "                 ... \n",
       "A1D6X2HRKJELIA      1\n",
       "AZ4BOBI1FYHFA       1\n",
       "A3L82HQ57H1BSA      1\n",
       "A3JLH3HD75B514      1\n",
       "A3NUDBXK3S80C5      1\n",
       "Name: UserId, Length: 4201696, dtype: int64"
      ]
     },
     "execution_count": 16,
     "metadata": {},
     "output_type": "execute_result"
    }
   ],
   "source": [
    "### Individual User's given review counts\n",
    "original_df['UserId'].value_counts()"
   ]
  },
  {
   "cell_type": "code",
   "execution_count": 78,
   "metadata": {},
   "outputs": [
    {
     "data": {
      "text/plain": [
       "A21FF4Y0QA78GA    1\n",
       "A3V237DNOUGHGL    1\n",
       "ALS730VAQT0WO     1\n",
       "A2YUZON45ZV1JC    1\n",
       "A2QV3Q8C1W4EX4    1\n",
       "                 ..\n",
       "A2P22DD9Q4SFXP    1\n",
       "A22OK93WUNXFKC    1\n",
       "A1ZEIY1EL9IBDG    1\n",
       "AVW7DEBVGDQFC     1\n",
       "A3MPBI1CMIY0UV    1\n",
       "Name: UserId, Length: 2881832, dtype: int64"
      ]
     },
     "execution_count": 78,
     "metadata": {},
     "output_type": "execute_result"
    }
   ],
   "source": [
    "original_df['UserId'].value_counts()[original_df['UserId'].value_counts()==1]"
   ]
  },
  {
   "cell_type": "markdown",
   "metadata": {},
   "source": [
    "__Observation__:Most of the data of 2881832 users have rated one time in the website. "
   ]
  },
  {
   "cell_type": "code",
   "execution_count": 3,
   "metadata": {},
   "outputs": [
    {
     "name": "stdout",
     "output_type": "stream",
     "text": [
      "              UserId  RatingsCount\n",
      "0      A5JLAU2ARJ0BO           520\n",
      "1       ADLVFFE4VBT8           501\n",
      "2     A3OXHLG6DIBRW8           498\n",
      "3       A6FIAB28IS79           431\n",
      "4      A680RUE1FDO8B           406\n",
      "...              ...           ...\n",
      "1461  A3QDMDSANPYGUX            51\n",
      "1462   A57Q87B0TC9IJ            51\n",
      "1463  A1SC5OXLQNGPLN            51\n",
      "1464  A2LF07KCXDR70D            51\n",
      "1465  A303SNZ4AR7TDQ            51\n",
      "\n",
      "[1466 rows x 2 columns]\n"
     ]
    }
   ],
   "source": [
    "### Trying to get the list of UserIds who has given rating more than 50 times\n",
    "highrated_users_df = (original_df['UserId'].value_counts()[original_df['UserId'].value_counts()>50]).rename_axis('UserId').reset_index(name='RatingsCount')\n",
    "print(highrated_users_df)"
   ]
  },
  {
   "cell_type": "code",
   "execution_count": 4,
   "metadata": {},
   "outputs": [
    {
     "data": {
      "text/plain": [
       "0        A5JLAU2ARJ0BO\n",
       "1         ADLVFFE4VBT8\n",
       "2       A3OXHLG6DIBRW8\n",
       "3         A6FIAB28IS79\n",
       "4        A680RUE1FDO8B\n",
       "             ...      \n",
       "1461    A3QDMDSANPYGUX\n",
       "1462     A57Q87B0TC9IJ\n",
       "1463    A1SC5OXLQNGPLN\n",
       "1464    A2LF07KCXDR70D\n",
       "1465    A303SNZ4AR7TDQ\n",
       "Name: UserId, Length: 1466, dtype: object"
      ]
     },
     "execution_count": 4,
     "metadata": {},
     "output_type": "execute_result"
    }
   ],
   "source": [
    "### List of UserIds we are going to consider for further proceedings\n",
    "highrated_users_df['UserId']"
   ]
  },
  {
   "cell_type": "code",
   "execution_count": 14,
   "metadata": {},
   "outputs": [
    {
     "name": "stdout",
     "output_type": "stream",
     "text": [
      "                 UserId   ProductId  Rating   Timestamp\n",
      "118       AT09WGFUM934H  0594481813     3.0  1377907200\n",
      "177      A32HSNCNPRUMTR  0970407998     1.0  1319673600\n",
      "178      A17HMM1M7T9PJ1  0970407998     4.0  1281744000\n",
      "492      A3CLWR1UUZT6TG  0972683275     5.0  1373587200\n",
      "631      A3TAS1AG6FMBQW  0972683275     5.0  1353456000\n",
      "...                 ...         ...     ...         ...\n",
      "7824426   A1E1LEVQ9VQNK  B00LGQ6HL8     5.0  1405641600\n",
      "7824427  A2NYK9KWFMJV4Y  B00LGQ6HL8     5.0  1405209600\n",
      "7824436  A3AYSYSLHU26U9  B00LI4ZZO8     4.0  1405296000\n",
      "7824438  A2NYK9KWFMJV4Y  B00LI4ZZO8     5.0  1405209600\n",
      "7824444  A2BYV7S1QP2YIG  B00LKG1MC8     5.0  1404950400\n",
      "\n",
      "[122171 rows x 4 columns]\n"
     ]
    }
   ],
   "source": [
    "### Subset of the original dataframe by getting only the UserIds who has given ratings more than 50\n",
    "filtered_df = original_df[original_df.UserId.isin(highrated_users_df['UserId'])]\n",
    "print(filtered_df)"
   ]
  },
  {
   "cell_type": "code",
   "execution_count": 6,
   "metadata": {},
   "outputs": [
    {
     "data": {
      "text/plain": [
       "(122171, 4)"
      ]
     },
     "execution_count": 6,
     "metadata": {},
     "output_type": "execute_result"
    }
   ],
   "source": [
    "### After filtering Users who has given more than 50 rating the subset dataframe shape\n",
    "filtered_df.shape"
   ]
  },
  {
   "cell_type": "code",
   "execution_count": 24,
   "metadata": {},
   "outputs": [
    {
     "name": "stdout",
     "output_type": "stream",
     "text": [
      "                 UserId   ProductId  Rating   Timestamp\n",
      "118       AT09WGFUM934H  0594481813     3.0  1377907200\n",
      "177      A32HSNCNPRUMTR  0970407998     1.0  1319673600\n",
      "178      A17HMM1M7T9PJ1  0970407998     4.0  1281744000\n",
      "492      A3CLWR1UUZT6TG  0972683275     5.0  1373587200\n",
      "631      A3TAS1AG6FMBQW  0972683275     5.0  1353456000\n",
      "...                 ...         ...     ...         ...\n",
      "7824426   A1E1LEVQ9VQNK  B00LGQ6HL8     5.0  1405641600\n",
      "7824427  A2NYK9KWFMJV4Y  B00LGQ6HL8     5.0  1405209600\n",
      "7824436  A3AYSYSLHU26U9  B00LI4ZZO8     4.0  1405296000\n",
      "7824438  A2NYK9KWFMJV4Y  B00LI4ZZO8     5.0  1405209600\n",
      "7824444  A2BYV7S1QP2YIG  B00LKG1MC8     5.0  1404950400\n",
      "\n",
      "[122171 rows x 4 columns]\n"
     ]
    }
   ],
   "source": [
    "print(filtered_df)"
   ]
  },
  {
   "cell_type": "code",
   "execution_count": 25,
   "metadata": {},
   "outputs": [
    {
     "data": {
      "text/plain": [
       "(122171, 4)"
      ]
     },
     "execution_count": 25,
     "metadata": {},
     "output_type": "execute_result"
    }
   ],
   "source": [
    "filtered_df.shape"
   ]
  },
  {
   "cell_type": "markdown",
   "metadata": {},
   "source": [
    "__Note__: The given dataset is a huge one with 7,824,482  rows. We need to create a subset of the original given data. For that I am going to use the logic to consider the Uesrs who has given more than 50 rating to different products.\n",
    "\n",
    "So after applying this logic on original data set and filtering we got a dataset of 122171 rows. For further recommendatin system building we are going to use this data set only."
   ]
  },
  {
   "cell_type": "code",
   "execution_count": 15,
   "metadata": {},
   "outputs": [],
   "source": [
    "### As we don't need the timestamp data for this recommendation system we can drop that attribute\n",
    "filtered_df.drop(columns='Timestamp',axis=1,inplace=True)"
   ]
  },
  {
   "cell_type": "code",
   "execution_count": 16,
   "metadata": {},
   "outputs": [
    {
     "data": {
      "text/html": [
       "<div>\n",
       "<style scoped>\n",
       "    .dataframe tbody tr th:only-of-type {\n",
       "        vertical-align: middle;\n",
       "    }\n",
       "\n",
       "    .dataframe tbody tr th {\n",
       "        vertical-align: top;\n",
       "    }\n",
       "\n",
       "    .dataframe thead th {\n",
       "        text-align: right;\n",
       "    }\n",
       "</style>\n",
       "<table border=\"1\" class=\"dataframe\">\n",
       "  <thead>\n",
       "    <tr style=\"text-align: right;\">\n",
       "      <th></th>\n",
       "      <th>UserId</th>\n",
       "      <th>ProductId</th>\n",
       "      <th>Rating</th>\n",
       "    </tr>\n",
       "  </thead>\n",
       "  <tbody>\n",
       "    <tr>\n",
       "      <td>118</td>\n",
       "      <td>AT09WGFUM934H</td>\n",
       "      <td>0594481813</td>\n",
       "      <td>3.0</td>\n",
       "    </tr>\n",
       "    <tr>\n",
       "      <td>177</td>\n",
       "      <td>A32HSNCNPRUMTR</td>\n",
       "      <td>0970407998</td>\n",
       "      <td>1.0</td>\n",
       "    </tr>\n",
       "    <tr>\n",
       "      <td>178</td>\n",
       "      <td>A17HMM1M7T9PJ1</td>\n",
       "      <td>0970407998</td>\n",
       "      <td>4.0</td>\n",
       "    </tr>\n",
       "    <tr>\n",
       "      <td>492</td>\n",
       "      <td>A3CLWR1UUZT6TG</td>\n",
       "      <td>0972683275</td>\n",
       "      <td>5.0</td>\n",
       "    </tr>\n",
       "    <tr>\n",
       "      <td>631</td>\n",
       "      <td>A3TAS1AG6FMBQW</td>\n",
       "      <td>0972683275</td>\n",
       "      <td>5.0</td>\n",
       "    </tr>\n",
       "  </tbody>\n",
       "</table>\n",
       "</div>"
      ],
      "text/plain": [
       "             UserId   ProductId  Rating\n",
       "118   AT09WGFUM934H  0594481813     3.0\n",
       "177  A32HSNCNPRUMTR  0970407998     1.0\n",
       "178  A17HMM1M7T9PJ1  0970407998     4.0\n",
       "492  A3CLWR1UUZT6TG  0972683275     5.0\n",
       "631  A3TAS1AG6FMBQW  0972683275     5.0"
      ]
     },
     "execution_count": 16,
     "metadata": {},
     "output_type": "execute_result"
    }
   ],
   "source": [
    "filtered_df.head()"
   ]
  },
  {
   "cell_type": "code",
   "execution_count": 28,
   "metadata": {},
   "outputs": [
    {
     "name": "stdout",
     "output_type": "stream",
     "text": [
      "Overall Ratings Count =  122171\n",
      "Unique Users Count   : 1466\n",
      "Unique Products Count  : 47155\n"
     ]
    }
   ],
   "source": [
    "### Unique User and Product counts\n",
    "print(\"Overall Ratings Count = \",filtered_df.Rating.count())\n",
    "print(\"Unique Users Count   :\", len(np.unique(filtered_df.UserId)))\n",
    "print(\"Unique Products Count  :\", len(np.unique(filtered_df.ProductId)))"
   ]
  },
  {
   "cell_type": "code",
   "execution_count": 80,
   "metadata": {},
   "outputs": [
    {
     "name": "stdout",
     "output_type": "stream",
     "text": [
      "5.0    68872\n",
      "4.0    31480\n",
      "3.0    11747\n",
      "2.0     5175\n",
      "1.0     4897\n",
      "Name: Rating, dtype: int64\n"
     ]
    },
    {
     "data": {
      "text/plain": [
       "<matplotlib.axes._subplots.AxesSubplot at 0x1640f65f1c8>"
      ]
     },
     "execution_count": 80,
     "metadata": {},
     "output_type": "execute_result"
    },
    {
     "data": {
      "image/png": "[encoded data removed]",
      "text/plain": [
       "<Figure size 432x288 with 1 Axes>"
      ]
     },
     "metadata": {
      "needs_background": "light"
     },
     "output_type": "display_data"
    }
   ],
   "source": [
    "### Check the distribution of different ratings with counts after applying the filter\n",
    "print(filtered_df['Rating'].value_counts().head())\n",
    "sns.countplot(x='Rating',data=filtered_df)"
   ]
  },
  {
   "cell_type": "code",
   "execution_count": 30,
   "metadata": {},
   "outputs": [
    {
     "data": {
      "text/plain": [
       "count        5.000000\n",
       "mean     24434.200000\n",
       "std      27101.408537\n",
       "min       4897.000000\n",
       "25%       5175.000000\n",
       "50%      11747.000000\n",
       "75%      31480.000000\n",
       "max      68872.000000\n",
       "Name: Rating, dtype: float64"
      ]
     },
     "execution_count": 30,
     "metadata": {},
     "output_type": "execute_result"
    }
   ],
   "source": [
    "### 5 point summary of distribution of Ratings\n",
    "filtered_df['Rating'].value_counts().describe()"
   ]
  },
  {
   "cell_type": "code",
   "execution_count": 33,
   "metadata": {},
   "outputs": [
    {
     "data": {
      "text/plain": [
       "count    1466.000000\n",
       "mean       83.336289\n",
       "std        46.930558\n",
       "min        51.000000\n",
       "25%        57.000000\n",
       "50%        68.000000\n",
       "75%        91.000000\n",
       "max       520.000000\n",
       "Name: UserId, dtype: float64"
      ]
     },
     "execution_count": 33,
     "metadata": {},
     "output_type": "execute_result"
    }
   ],
   "source": [
    "### 5 point summary of distribution of UserId ratings count\n",
    "filtered_df['UserId'].value_counts().describe()"
   ]
  },
  {
   "cell_type": "code",
   "execution_count": 81,
   "metadata": {},
   "outputs": [
    {
     "name": "stdout",
     "output_type": "stream",
     "text": [
      "A5JLAU2ARJ0BO     520\n",
      "ADLVFFE4VBT8      501\n",
      "A3OXHLG6DIBRW8    498\n",
      "A6FIAB28IS79      431\n",
      "A680RUE1FDO8B     406\n",
      "A1ODOGXEYECQQ8    380\n",
      "A36K2N527TXXJN    314\n",
      "A2AY4YUOX2N1BQ    311\n",
      "AWPODHOB4GFWL     308\n",
      "ARBKYIVNYWK3C     296\n",
      "Name: UserId, dtype: int64\n"
     ]
    },
    {
     "data": {
      "text/plain": [
       "<matplotlib.axes._subplots.AxesSubplot at 0x1640d3d6488>"
      ]
     },
     "execution_count": 81,
     "metadata": {},
     "output_type": "execute_result"
    },
    {
     "data": {
      "image/png": "[encoded data removed]",
      "text/plain": [
       "<Figure size 432x288 with 1 Axes>"
      ]
     },
     "metadata": {
      "needs_background": "light"
     },
     "output_type": "display_data"
    }
   ],
   "source": [
    "### Top 10 active User Ids with maximum number of ratings given\n",
    "print(filtered_df['UserId'].value_counts().head(10))\n",
    "sns.countplot(y='UserId',data=filtered_df, order=filtered_df.UserId.value_counts().iloc[:10].index)"
   ]
  },
  {
   "cell_type": "code",
   "execution_count": 104,
   "metadata": {},
   "outputs": [
    {
     "data": {
      "text/plain": [
       "<matplotlib.axes._subplots.AxesSubplot at 0x1640f2ba948>"
      ]
     },
     "execution_count": 104,
     "metadata": {},
     "output_type": "execute_result"
    },
    {
     "data": {
      "image/png": "[encoded data removed]",
      "text/plain": [
       "<Figure size 432x288 with 1 Axes>"
      ]
     },
     "metadata": {
      "needs_background": "light"
     },
     "output_type": "display_data"
    }
   ],
   "source": [
    "### Histogram of user counts for different number of ratings given\n",
    "filtered_df['UserId'].value_counts().hist()"
   ]
  },
  {
   "cell_type": "code",
   "execution_count": 36,
   "metadata": {},
   "outputs": [
    {
     "data": {
      "text/plain": [
       "count    47155.000000\n",
       "mean         2.590839\n",
       "std          5.055156\n",
       "min          1.000000\n",
       "25%          1.000000\n",
       "50%          1.000000\n",
       "75%          2.000000\n",
       "max        204.000000\n",
       "Name: ProductId, dtype: float64"
      ]
     },
     "execution_count": 36,
     "metadata": {},
     "output_type": "execute_result"
    }
   ],
   "source": [
    "### 5 point summary of distribution of ProductId ratings count\n",
    "filtered_df['ProductId'].value_counts().describe()"
   ]
  },
  {
   "cell_type": "code",
   "execution_count": 82,
   "metadata": {},
   "outputs": [
    {
     "name": "stdout",
     "output_type": "stream",
     "text": [
      "B0088CJT4U    204\n",
      "B003ES5ZUU    177\n",
      "B000N99BBC    163\n",
      "B007WTAJTO    156\n",
      "B00829TIEK    146\n",
      "B008DWCRQW    135\n",
      "B00829THK0    132\n",
      "B002R5AM7C    127\n",
      "B004CLYEDC    117\n",
      "B004T9RR6I    108\n",
      "Name: ProductId, dtype: int64\n"
     ]
    },
    {
     "data": {
      "text/plain": [
       "<matplotlib.axes._subplots.AxesSubplot at 0x1640f53bc48>"
      ]
     },
     "execution_count": 82,
     "metadata": {},
     "output_type": "execute_result"
    },
    {
     "data": {
      "image/png": "[encoded data removed]",
      "text/plain": [
       "<Figure size 432x288 with 1 Axes>"
      ]
     },
     "metadata": {
      "needs_background": "light"
     },
     "output_type": "display_data"
    }
   ],
   "source": [
    "### Top 10 active Product Ids with maximum number of ratings given\n",
    "print(filtered_df['ProductId'].value_counts().head(10))\n",
    "sns.countplot(y='ProductId',data=filtered_df, order=filtered_df.ProductId.value_counts().iloc[:10].index)"
   ]
  },
  {
   "cell_type": "markdown",
   "metadata": {},
   "source": [
    "## 3. Build Popularity Recommender model."
   ]
  },
  {
   "cell_type": "code",
   "execution_count": 38,
   "metadata": {},
   "outputs": [
    {
     "data": {
      "text/plain": [
       "ProductId\n",
       "0594481813    3.0\n",
       "0970407998    2.5\n",
       "0972683275    5.0\n",
       "1400501466    3.0\n",
       "1400501520    5.0\n",
       "Name: Rating, dtype: float64"
      ]
     },
     "execution_count": 38,
     "metadata": {},
     "output_type": "execute_result"
    }
   ],
   "source": [
    "### Average rating of the individual ProductIds \n",
    "filtered_df.groupby('ProductId')['Rating'].mean().head()"
   ]
  },
  {
   "cell_type": "code",
   "execution_count": 39,
   "metadata": {},
   "outputs": [
    {
     "data": {
      "text/plain": [
       "ProductId\n",
       "B00LKG1MC8    5.0\n",
       "B000H8WLKC    5.0\n",
       "B000HA4EZK    5.0\n",
       "B004EHZZDW    5.0\n",
       "B004EI0EG4    5.0\n",
       "Name: Rating, dtype: float64"
      ]
     },
     "execution_count": 39,
     "metadata": {},
     "output_type": "execute_result"
    }
   ],
   "source": [
    "### Average rating of the individual ProductId in descending order\n",
    "filtered_df.groupby('ProductId')['Rating'].mean().sort_values(ascending=False).head()"
   ]
  },
  {
   "cell_type": "code",
   "execution_count": 127,
   "metadata": {},
   "outputs": [
    {
     "data": {
      "text/plain": [
       "ProductId\n",
       "B0088CJT4U    204\n",
       "B003ES5ZUU    177\n",
       "B000N99BBC    163\n",
       "B007WTAJTO    156\n",
       "B00829TIEK    146\n",
       "B008DWCRQW    135\n",
       "B00829THK0    132\n",
       "B002R5AM7C    127\n",
       "B004CLYEDC    117\n",
       "B004T9RR6I    108\n",
       "Name: Rating, dtype: int64"
      ]
     },
     "execution_count": 127,
     "metadata": {},
     "output_type": "execute_result"
    }
   ],
   "source": [
    "### Total no of ratings count for individual ProductIds in descending order\n",
    "filtered_df.groupby('ProductId')['Rating'].count().sort_values(ascending=False).head(10)"
   ]
  },
  {
   "cell_type": "code",
   "execution_count": 41,
   "metadata": {},
   "outputs": [],
   "source": [
    "ratings_mean_count = pd.DataFrame(filtered_df.groupby('ProductId')['Rating'].mean()) "
   ]
  },
  {
   "cell_type": "code",
   "execution_count": 42,
   "metadata": {},
   "outputs": [],
   "source": [
    "ratings_mean_count['Rating_Counts'] = pd.DataFrame(filtered_df.groupby('ProductId')['Rating'].count())  "
   ]
  },
  {
   "cell_type": "code",
   "execution_count": 43,
   "metadata": {},
   "outputs": [
    {
     "data": {
      "text/plain": [
       "(47155, 2)"
      ]
     },
     "execution_count": 43,
     "metadata": {},
     "output_type": "execute_result"
    }
   ],
   "source": [
    "ratings_mean_count.shape"
   ]
  },
  {
   "cell_type": "code",
   "execution_count": 129,
   "metadata": {},
   "outputs": [
    {
     "data": {
      "text/html": [
       "<div>\n",
       "<style scoped>\n",
       "    .dataframe tbody tr th:only-of-type {\n",
       "        vertical-align: middle;\n",
       "    }\n",
       "\n",
       "    .dataframe tbody tr th {\n",
       "        vertical-align: top;\n",
       "    }\n",
       "\n",
       "    .dataframe thead th {\n",
       "        text-align: right;\n",
       "    }\n",
       "</style>\n",
       "<table border=\"1\" class=\"dataframe\">\n",
       "  <thead>\n",
       "    <tr style=\"text-align: right;\">\n",
       "      <th></th>\n",
       "      <th>Rating</th>\n",
       "      <th>Rating_Counts</th>\n",
       "    </tr>\n",
       "    <tr>\n",
       "      <th>ProductId</th>\n",
       "      <th></th>\n",
       "      <th></th>\n",
       "    </tr>\n",
       "  </thead>\n",
       "  <tbody>\n",
       "    <tr>\n",
       "      <td>B0088CJT4U</td>\n",
       "      <td>4.215686</td>\n",
       "      <td>204</td>\n",
       "    </tr>\n",
       "    <tr>\n",
       "      <td>B003ES5ZUU</td>\n",
       "      <td>4.858757</td>\n",
       "      <td>177</td>\n",
       "    </tr>\n",
       "    <tr>\n",
       "      <td>B000N99BBC</td>\n",
       "      <td>4.773006</td>\n",
       "      <td>163</td>\n",
       "    </tr>\n",
       "    <tr>\n",
       "      <td>B007WTAJTO</td>\n",
       "      <td>4.692308</td>\n",
       "      <td>156</td>\n",
       "    </tr>\n",
       "    <tr>\n",
       "      <td>B00829TIEK</td>\n",
       "      <td>4.431507</td>\n",
       "      <td>146</td>\n",
       "    </tr>\n",
       "  </tbody>\n",
       "</table>\n",
       "</div>"
      ],
      "text/plain": [
       "              Rating  Rating_Counts\n",
       "ProductId                          \n",
       "B0088CJT4U  4.215686            204\n",
       "B003ES5ZUU  4.858757            177\n",
       "B000N99BBC  4.773006            163\n",
       "B007WTAJTO  4.692308            156\n",
       "B00829TIEK  4.431507            146"
      ]
     },
     "execution_count": 129,
     "metadata": {},
     "output_type": "execute_result"
    }
   ],
   "source": [
    "### Top 5 ProductIds based on their ratings count with the mean ratings\n",
    "ratings_mean_count.sort_values(by=['Rating_Counts'], ascending=False).head(5)"
   ]
  },
  {
   "cell_type": "code",
   "execution_count": 130,
   "metadata": {},
   "outputs": [
    {
     "data": {
      "text/plain": [
       "<matplotlib.axes._subplots.AxesSubplot at 0x20641cfa048>"
      ]
     },
     "execution_count": 130,
     "metadata": {},
     "output_type": "execute_result"
    },
    {
     "data": {
      "image/png": "[encoded data removed]",
      "text/plain": [
       "<Figure size 432x288 with 1 Axes>"
      ]
     },
     "metadata": {
      "needs_background": "light"
     },
     "output_type": "display_data"
    }
   ],
   "source": [
    "### Top 5 ProductIds based on their ratings count with the mean ratings\n",
    "ratings_mean_count.sort_values(by=['Rating_Counts'], ascending=False).head(5).plot(kind = \"bar\")"
   ]
  },
  {
   "cell_type": "markdown",
   "metadata": {},
   "source": [
    "## 4. Split the data randomly into a train and test dataset. ( For example, split it in 70/30 ratio) "
   ]
  },
  {
   "cell_type": "code",
   "execution_count": 17,
   "metadata": {},
   "outputs": [],
   "source": [
    "### Reading the dataset\n",
    "reader = Reader(rating_scale=(1, 5))\n",
    "df = Dataset.load_from_df(filtered_df,reader)"
   ]
  },
  {
   "cell_type": "code",
   "execution_count": 21,
   "metadata": {},
   "outputs": [],
   "source": [
    "### Splitting the dataset in 70/30 ratio\n",
    "train_set, test_set = train_test_split(df, test_size=0.3,random_state=10)"
   ]
  },
  {
   "cell_type": "code",
   "execution_count": 107,
   "metadata": {},
   "outputs": [],
   "source": [
    "### train_set.ur"
   ]
  },
  {
   "cell_type": "markdown",
   "metadata": {},
   "source": [
    "## 5. Build Collaborative Filtering model."
   ]
  },
  {
   "cell_type": "code",
   "execution_count": 56,
   "metadata": {},
   "outputs": [
    {
     "data": {
      "text/html": [
       "<div>\n",
       "<style scoped>\n",
       "    .dataframe tbody tr th:only-of-type {\n",
       "        vertical-align: middle;\n",
       "    }\n",
       "\n",
       "    .dataframe tbody tr th {\n",
       "        vertical-align: top;\n",
       "    }\n",
       "\n",
       "    .dataframe thead th {\n",
       "        text-align: right;\n",
       "    }\n",
       "</style>\n",
       "<table border=\"1\" class=\"dataframe\">\n",
       "  <thead>\n",
       "    <tr style=\"text-align: right;\">\n",
       "      <th>ProductId</th>\n",
       "      <th>0594481813</th>\n",
       "      <th>0970407998</th>\n",
       "      <th>0972683275</th>\n",
       "      <th>1400501466</th>\n",
       "      <th>1400501520</th>\n",
       "      <th>1400501776</th>\n",
       "      <th>1400532620</th>\n",
       "      <th>1400532655</th>\n",
       "      <th>140053271X</th>\n",
       "      <th>1400599997</th>\n",
       "      <th>...</th>\n",
       "      <th>B00L5YZCCG</th>\n",
       "      <th>B00L8I6SFY</th>\n",
       "      <th>B00L8QCVL6</th>\n",
       "      <th>B00LA6T0LS</th>\n",
       "      <th>B00LBZ1Z7K</th>\n",
       "      <th>B00LED02VY</th>\n",
       "      <th>B00LGN7Y3G</th>\n",
       "      <th>B00LGQ6HL8</th>\n",
       "      <th>B00LI4ZZO8</th>\n",
       "      <th>B00LKG1MC8</th>\n",
       "    </tr>\n",
       "    <tr>\n",
       "      <th>UserId</th>\n",
       "      <th></th>\n",
       "      <th></th>\n",
       "      <th></th>\n",
       "      <th></th>\n",
       "      <th></th>\n",
       "      <th></th>\n",
       "      <th></th>\n",
       "      <th></th>\n",
       "      <th></th>\n",
       "      <th></th>\n",
       "      <th></th>\n",
       "      <th></th>\n",
       "      <th></th>\n",
       "      <th></th>\n",
       "      <th></th>\n",
       "      <th></th>\n",
       "      <th></th>\n",
       "      <th></th>\n",
       "      <th></th>\n",
       "      <th></th>\n",
       "      <th></th>\n",
       "    </tr>\n",
       "  </thead>\n",
       "  <tbody>\n",
       "    <tr>\n",
       "      <td>A100UD67AHFODS</td>\n",
       "      <td>0</td>\n",
       "      <td>0</td>\n",
       "      <td>0</td>\n",
       "      <td>0</td>\n",
       "      <td>0</td>\n",
       "      <td>0</td>\n",
       "      <td>0</td>\n",
       "      <td>0</td>\n",
       "      <td>0</td>\n",
       "      <td>0</td>\n",
       "      <td>...</td>\n",
       "      <td>0</td>\n",
       "      <td>0</td>\n",
       "      <td>0</td>\n",
       "      <td>0</td>\n",
       "      <td>0</td>\n",
       "      <td>0</td>\n",
       "      <td>0</td>\n",
       "      <td>0</td>\n",
       "      <td>0</td>\n",
       "      <td>0</td>\n",
       "    </tr>\n",
       "    <tr>\n",
       "      <td>A100WO06OQR8BQ</td>\n",
       "      <td>0</td>\n",
       "      <td>0</td>\n",
       "      <td>0</td>\n",
       "      <td>0</td>\n",
       "      <td>0</td>\n",
       "      <td>0</td>\n",
       "      <td>0</td>\n",
       "      <td>0</td>\n",
       "      <td>0</td>\n",
       "      <td>0</td>\n",
       "      <td>...</td>\n",
       "      <td>0</td>\n",
       "      <td>0</td>\n",
       "      <td>0</td>\n",
       "      <td>0</td>\n",
       "      <td>0</td>\n",
       "      <td>0</td>\n",
       "      <td>0</td>\n",
       "      <td>0</td>\n",
       "      <td>0</td>\n",
       "      <td>0</td>\n",
       "    </tr>\n",
       "    <tr>\n",
       "      <td>A105S56ODHGJEK</td>\n",
       "      <td>0</td>\n",
       "      <td>0</td>\n",
       "      <td>0</td>\n",
       "      <td>0</td>\n",
       "      <td>0</td>\n",
       "      <td>0</td>\n",
       "      <td>0</td>\n",
       "      <td>0</td>\n",
       "      <td>0</td>\n",
       "      <td>0</td>\n",
       "      <td>...</td>\n",
       "      <td>0</td>\n",
       "      <td>0</td>\n",
       "      <td>0</td>\n",
       "      <td>0</td>\n",
       "      <td>0</td>\n",
       "      <td>0</td>\n",
       "      <td>0</td>\n",
       "      <td>0</td>\n",
       "      <td>0</td>\n",
       "      <td>0</td>\n",
       "    </tr>\n",
       "    <tr>\n",
       "      <td>A105TOJ6LTVMBG</td>\n",
       "      <td>0</td>\n",
       "      <td>0</td>\n",
       "      <td>0</td>\n",
       "      <td>0</td>\n",
       "      <td>0</td>\n",
       "      <td>0</td>\n",
       "      <td>0</td>\n",
       "      <td>0</td>\n",
       "      <td>0</td>\n",
       "      <td>0</td>\n",
       "      <td>...</td>\n",
       "      <td>0</td>\n",
       "      <td>0</td>\n",
       "      <td>0</td>\n",
       "      <td>0</td>\n",
       "      <td>0</td>\n",
       "      <td>0</td>\n",
       "      <td>0</td>\n",
       "      <td>0</td>\n",
       "      <td>0</td>\n",
       "      <td>0</td>\n",
       "    </tr>\n",
       "    <tr>\n",
       "      <td>A10AFVU66A79Y1</td>\n",
       "      <td>0</td>\n",
       "      <td>0</td>\n",
       "      <td>0</td>\n",
       "      <td>0</td>\n",
       "      <td>0</td>\n",
       "      <td>0</td>\n",
       "      <td>0</td>\n",
       "      <td>0</td>\n",
       "      <td>0</td>\n",
       "      <td>0</td>\n",
       "      <td>...</td>\n",
       "      <td>0</td>\n",
       "      <td>0</td>\n",
       "      <td>0</td>\n",
       "      <td>0</td>\n",
       "      <td>0</td>\n",
       "      <td>0</td>\n",
       "      <td>0</td>\n",
       "      <td>0</td>\n",
       "      <td>0</td>\n",
       "      <td>0</td>\n",
       "    </tr>\n",
       "  </tbody>\n",
       "</table>\n",
       "<p>5 rows × 47155 columns</p>\n",
       "</div>"
      ],
      "text/plain": [
       "ProductId       0594481813  0970407998  0972683275  1400501466  1400501520  \\\n",
       "UserId                                                                       \n",
       "A100UD67AHFODS           0           0           0           0           0   \n",
       "A100WO06OQR8BQ           0           0           0           0           0   \n",
       "A105S56ODHGJEK           0           0           0           0           0   \n",
       "A105TOJ6LTVMBG           0           0           0           0           0   \n",
       "A10AFVU66A79Y1           0           0           0           0           0   \n",
       "\n",
       "ProductId       1400501776  1400532620  1400532655  140053271X  1400599997  \\\n",
       "UserId                                                                       \n",
       "A100UD67AHFODS           0           0           0           0           0   \n",
       "A100WO06OQR8BQ           0           0           0           0           0   \n",
       "A105S56ODHGJEK           0           0           0           0           0   \n",
       "A105TOJ6LTVMBG           0           0           0           0           0   \n",
       "A10AFVU66A79Y1           0           0           0           0           0   \n",
       "\n",
       "ProductId       ...  B00L5YZCCG  B00L8I6SFY  B00L8QCVL6  B00LA6T0LS  \\\n",
       "UserId          ...                                                   \n",
       "A100UD67AHFODS  ...           0           0           0           0   \n",
       "A100WO06OQR8BQ  ...           0           0           0           0   \n",
       "A105S56ODHGJEK  ...           0           0           0           0   \n",
       "A105TOJ6LTVMBG  ...           0           0           0           0   \n",
       "A10AFVU66A79Y1  ...           0           0           0           0   \n",
       "\n",
       "ProductId       B00LBZ1Z7K  B00LED02VY  B00LGN7Y3G  B00LGQ6HL8  B00LI4ZZO8  \\\n",
       "UserId                                                                       \n",
       "A100UD67AHFODS           0           0           0           0           0   \n",
       "A100WO06OQR8BQ           0           0           0           0           0   \n",
       "A105S56ODHGJEK           0           0           0           0           0   \n",
       "A105TOJ6LTVMBG           0           0           0           0           0   \n",
       "A10AFVU66A79Y1           0           0           0           0           0   \n",
       "\n",
       "ProductId       B00LKG1MC8  \n",
       "UserId                      \n",
       "A100UD67AHFODS           0  \n",
       "A100WO06OQR8BQ           0  \n",
       "A105S56ODHGJEK           0  \n",
       "A105TOJ6LTVMBG           0  \n",
       "A10AFVU66A79Y1           0  \n",
       "\n",
       "[5 rows x 47155 columns]"
      ]
     },
     "execution_count": 56,
     "metadata": {},
     "output_type": "execute_result"
    }
   ],
   "source": [
    "### Let's build a pivot table to check the ratings between all the given users and the products\n",
    "sub_filtered_df=filtered_df.head(10000)\n",
    "ratings_matrix = filtered_df.pivot_table(values='Rating', index='UserId', columns='ProductId', fill_value=0)\n",
    "ratings_matrix.head()"
   ]
  },
  {
   "cell_type": "code",
   "execution_count": 57,
   "metadata": {},
   "outputs": [
    {
     "data": {
      "text/plain": [
       "(1466, 47155)"
      ]
     },
     "execution_count": 57,
     "metadata": {},
     "output_type": "execute_result"
    }
   ],
   "source": [
    "ratings_matrix.shape"
   ]
  },
  {
   "cell_type": "markdown",
   "metadata": {},
   "source": [
    "__Observation__: Seems lot of zeros means missing ratings between most of the users and the products."
   ]
  },
  {
   "cell_type": "code",
   "execution_count": 58,
   "metadata": {},
   "outputs": [
    {
     "data": {
      "text/plain": [
       "0.001767284258771579"
      ]
     },
     "execution_count": 58,
     "metadata": {},
     "output_type": "execute_result"
    }
   ],
   "source": [
    "### Density of the matrix\n",
    "given_ratings = np.count_nonzero(ratings_matrix)\n",
    "possible_ratings = ratings_matrix.shape[0]*ratings_matrix.shape[1]\n",
    "given_ratings/possible_ratings"
   ]
  },
  {
   "cell_type": "markdown",
   "metadata": {},
   "source": [
    "__Observation__: Very sparce matrix and is inefficient. So we have to predict the ratings for zero valued ratings for different user product combinations using different collaborative algorithms."
   ]
  },
  {
   "cell_type": "markdown",
   "metadata": {},
   "source": [
    "### Memory Based Collaborative Filtering"
   ]
  },
  {
   "cell_type": "markdown",
   "metadata": {},
   "source": [
    "#### KNNWithMeans is basic collaborative filtering algorithm, taking into account the mean ratings of each user."
   ]
  },
  {
   "cell_type": "code",
   "execution_count": 38,
   "metadata": {},
   "outputs": [
    {
     "name": "stdout",
     "output_type": "stream",
     "text": [
      "Estimating biases using als...\n",
      "Computing the pearson_baseline similarity matrix...\n",
      "Done computing similarity matrix.\n"
     ]
    },
    {
     "data": {
      "text/plain": [
       "<surprise.prediction_algorithms.knns.KNNWithMeans at 0x16327116648>"
      ]
     },
     "execution_count": 38,
     "metadata": {},
     "output_type": "execute_result"
    }
   ],
   "source": [
    "### Item-Item Collaborative Filtering Model\n",
    "item_based_model = KNNWithMeans(k=5, sim_options={'name': 'pearson_baseline', 'user_based': False})\n",
    "item_based_model.fit(train_set)"
   ]
  },
  {
   "cell_type": "code",
   "execution_count": 66,
   "metadata": {},
   "outputs": [
    {
     "name": "stdout",
     "output_type": "stream",
     "text": [
      "Estimating biases using als...\n",
      "Computing the pearson_baseline similarity matrix...\n",
      "Done computing similarity matrix.\n"
     ]
    },
    {
     "data": {
      "text/plain": [
       "<surprise.prediction_algorithms.knns.KNNWithMeans at 0x1632c9bbe48>"
      ]
     },
     "execution_count": 66,
     "metadata": {},
     "output_type": "execute_result"
    }
   ],
   "source": [
    "### User-User Collaborative Filtering Model\n",
    "user_based_model = KNNWithMeans(k=5, sim_options={'name': 'pearson_baseline', 'user_based': True})\n",
    "user_based_model.fit(train_set)"
   ]
  },
  {
   "cell_type": "code",
   "execution_count": 67,
   "metadata": {},
   "outputs": [
    {
     "name": "stdout",
     "output_type": "stream",
     "text": [
      "user: A2RU4U1JZ3DMP5 item: B0002LEMWE r_ui = None   est = 4.93   {'actual_k': 0, 'was_impossible': False}\n"
     ]
    }
   ],
   "source": [
    "### Get a prediction rating for specific user and item.\n",
    "pred = item_based_model.predict('A2RU4U1JZ3DMP5', 'B0002LEMWE', verbose=True)"
   ]
  },
  {
   "cell_type": "code",
   "execution_count": 70,
   "metadata": {},
   "outputs": [
    {
     "name": "stdout",
     "output_type": "stream",
     "text": [
      "1 UserId = AT09WGFUM934H, ProductId = 0594481813, ActualRating = 3.0, PredictedRating = 3.0\n",
      "2 UserId = A32HSNCNPRUMTR, ProductId = 0970407998, ActualRating = 1.0, PredictedRating = 1\n",
      "3 UserId = A17HMM1M7T9PJ1, ProductId = 0970407998, ActualRating = 4.0, PredictedRating = 1\n",
      "4 UserId = A3CLWR1UUZT6TG, ProductId = 0972683275, ActualRating = 5.0, PredictedRating = 5\n",
      "5 UserId = A3TAS1AG6FMBQW, ProductId = 0972683275, ActualRating = 5.0, PredictedRating = 5\n",
      "6 UserId = A25RTRAPQAJBDJ, ProductId = 0972683275, ActualRating = 5.0, PredictedRating = 5\n",
      "7 UserId = A3LDPF5FMB782Z, ProductId = 1400501466, ActualRating = 5.0, PredictedRating = 5\n",
      "8 UserId = A1A5KUIIIHFF4U, ProductId = 1400501466, ActualRating = 1.0, PredictedRating = 1\n",
      "9 UserId = A2XIOXRRYX0KZY, ProductId = 1400501466, ActualRating = 3.0, PredictedRating = 3.0\n",
      "10 UserId = AW3LX47IHPFRL, ProductId = 1400501466, ActualRating = 5.0, PredictedRating = 5\n"
     ]
    }
   ],
   "source": [
    "### Print actual rating and the model's predicted rating for each user and product combination just to view\n",
    "i =0\n",
    "for index, row in filtered_df.iterrows():\n",
    "    i=i+1\n",
    "    uid = row['UserId']\n",
    "    iid = row['ProductId']\n",
    "    rating = row['Rating']\n",
    "    pre_rating = item_based_model.predict(uid, iid, verbose=False).est\n",
    "    print(\"%d UserId = %s, ProductId = %s, ActualRating = %s, PredictedRating = %s\" % (i,uid,iid,rating,pre_rating))\n",
    "    if(i==10):\n",
    "        break"
   ]
  },
  {
   "cell_type": "markdown",
   "metadata": {},
   "source": [
    "### Model Based Collaborative Filtering"
   ]
  },
  {
   "cell_type": "markdown",
   "metadata": {},
   "source": [
    "#### We are going to use SVD algorithm of surprise library which uses matrix factorization."
   ]
  },
  {
   "cell_type": "code",
   "execution_count": 60,
   "metadata": {},
   "outputs": [
    {
     "data": {
      "text/plain": [
       "<surprise.prediction_algorithms.matrix_factorization.SVD at 0x20612a16e08>"
      ]
     },
     "execution_count": 60,
     "metadata": {},
     "output_type": "execute_result"
    }
   ],
   "source": [
    "svd_model = SVD()\n",
    "svd_model.fit(train_set)"
   ]
  },
  {
   "cell_type": "markdown",
   "metadata": {},
   "source": [
    "## 6. Evaluate the above model. ( Once the model is trained on the training data, it can be used to compute the error (like RMSE) on predictions made on the test data.) You can also use a different method to evaluate the models."
   ]
  },
  {
   "cell_type": "markdown",
   "metadata": {},
   "source": [
    "### Memory Based Collaborative Filtering"
   ]
  },
  {
   "cell_type": "code",
   "execution_count": 69,
   "metadata": {},
   "outputs": [
    {
     "data": {
      "text/plain": [
       "[Prediction(uid='AJL3U764D7NI3', iid='B0002LEMWE', r_ui=5.0, est=4.928571428571429, details={'actual_k': 0, 'was_impossible': False}),\n",
       " Prediction(uid='A2RU4U1JZ3DMP5', iid='B0031AQ302', r_ui=4.0, est=4.25, details={'actual_k': 0, 'was_impossible': False}),\n",
       " Prediction(uid='A84FLVDK2R5JF', iid='B004N625AK', r_ui=5.0, est=4.2, details={'actual_k': 1, 'was_impossible': False}),\n",
       " Prediction(uid='A32482Z7XIKDQX', iid='B00EBPNC78', r_ui=5.0, est=4.261181725698383, details={'was_impossible': True, 'reason': 'User and/or item is unkown.'}),\n",
       " Prediction(uid='A3A4ZAIBQWKOZS', iid='B00067OEPO', r_ui=4.0, est=4.261181725698383, details={'was_impossible': True, 'reason': 'User and/or item is unkown.'}),\n",
       " Prediction(uid='A3W4D8XOGLWUN5', iid='B004MPR0ZC', r_ui=4.0, est=4.261181725698383, details={'was_impossible': True, 'reason': 'User and/or item is unkown.'}),\n",
       " Prediction(uid='A1E1LEVQ9VQNK', iid='B005OOKNP4', r_ui=5.0, est=4.612222686451331, details={'actual_k': 2, 'was_impossible': False}),\n",
       " Prediction(uid='A1UQBFCERIP7VJ', iid='B00834SJSK', r_ui=5.0, est=4.867149445995131, details={'actual_k': 5, 'was_impossible': False}),\n",
       " Prediction(uid='APBDZ88BBTN4F', iid='B001OI2YNS', r_ui=5.0, est=4.625, details={'actual_k': 0, 'was_impossible': False}),\n",
       " Prediction(uid='ACY9QYNDFLVBI', iid='B007B5RIYI', r_ui=5.0, est=5, details={'actual_k': 0, 'was_impossible': False})]"
      ]
     },
     "execution_count": 69,
     "metadata": {},
     "output_type": "execute_result"
    }
   ],
   "source": [
    "### Run the trained Item-Item collaborative filtering model against the testset\n",
    "item_item_pred = item_based_model.test(test_set)\n",
    "item_item_pred[:10]"
   ]
  },
  {
   "cell_type": "code",
   "execution_count": 53,
   "metadata": {},
   "outputs": [
    {
     "name": "stdout",
     "output_type": "stream",
     "text": [
      "Item-Item Collaborative Filtering Model : Test Set\n",
      "RMSE: 1.1394\n"
     ]
    },
    {
     "data": {
      "text/plain": [
       "1.1394480408142575"
      ]
     },
     "execution_count": 53,
     "metadata": {},
     "output_type": "execute_result"
    }
   ],
   "source": [
    "### RMSE (Mean Absolute Error)\n",
    "print(\"Item-Item Collaborative Filtering Model : Test Set\")\n",
    "accuracy.rmse(item_item_pred, verbose=True)"
   ]
  },
  {
   "cell_type": "code",
   "execution_count": 112,
   "metadata": {},
   "outputs": [
    {
     "name": "stdout",
     "output_type": "stream",
     "text": [
      "Item-Item Collaborative Filtering Model : Test Set\n",
      "MAE:  0.8083\n"
     ]
    },
    {
     "data": {
      "text/plain": [
       "0.8082733088591534"
      ]
     },
     "execution_count": 112,
     "metadata": {},
     "output_type": "execute_result"
    }
   ],
   "source": [
    "### MAE (Mean Absolute Error)\n",
    "print(\"Item-Item Collaborative Filtering Model : Test Set\")\n",
    "accuracy.mae(item_item_pred, verbose=True)"
   ]
  },
  {
   "cell_type": "code",
   "execution_count": 68,
   "metadata": {},
   "outputs": [
    {
     "data": {
      "text/plain": [
       "[Prediction(uid='AJL3U764D7NI3', iid='B0002LEMWE', r_ui=5.0, est=4.711111111111111, details={'actual_k': 0, 'was_impossible': False}),\n",
       " Prediction(uid='A2RU4U1JZ3DMP5', iid='B0031AQ302', r_ui=4.0, est=4.190476190476191, details={'actual_k': 0, 'was_impossible': False}),\n",
       " Prediction(uid='A84FLVDK2R5JF', iid='B004N625AK', r_ui=5.0, est=4.142857142857143, details={'actual_k': 0, 'was_impossible': False}),\n",
       " Prediction(uid='A32482Z7XIKDQX', iid='B00EBPNC78', r_ui=5.0, est=4.261181725698383, details={'was_impossible': True, 'reason': 'User and/or item is unkown.'}),\n",
       " Prediction(uid='A3A4ZAIBQWKOZS', iid='B00067OEPO', r_ui=4.0, est=4.261181725698383, details={'was_impossible': True, 'reason': 'User and/or item is unkown.'}),\n",
       " Prediction(uid='A3W4D8XOGLWUN5', iid='B004MPR0ZC', r_ui=4.0, est=4.261181725698383, details={'was_impossible': True, 'reason': 'User and/or item is unkown.'}),\n",
       " Prediction(uid='A1E1LEVQ9VQNK', iid='B005OOKNP4', r_ui=5.0, est=5, details={'actual_k': 4, 'was_impossible': False}),\n",
       " Prediction(uid='A1UQBFCERIP7VJ', iid='B00834SJSK', r_ui=5.0, est=5, details={'actual_k': 5, 'was_impossible': False}),\n",
       " Prediction(uid='APBDZ88BBTN4F', iid='B001OI2YNS', r_ui=5.0, est=4.293395116684611, details={'actual_k': 2, 'was_impossible': False}),\n",
       " Prediction(uid='ACY9QYNDFLVBI', iid='B007B5RIYI', r_ui=5.0, est=4.6923076923076925, details={'actual_k': 0, 'was_impossible': False})]"
      ]
     },
     "execution_count": 68,
     "metadata": {},
     "output_type": "execute_result"
    }
   ],
   "source": [
    "### Run the trained User-User collaborative filtering model against the testset\n",
    "user_user_pred = user_based_model.test(test_set)\n",
    "user_user_pred[:10]"
   ]
  },
  {
   "cell_type": "code",
   "execution_count": 55,
   "metadata": {},
   "outputs": [
    {
     "name": "stdout",
     "output_type": "stream",
     "text": [
      "User-User Collaborative Filtering Model : Test Set\n",
      "RMSE: 1.0476\n"
     ]
    },
    {
     "data": {
      "text/plain": [
       "1.0476044141023797"
      ]
     },
     "execution_count": 55,
     "metadata": {},
     "output_type": "execute_result"
    }
   ],
   "source": [
    "### RMSE\n",
    "print(\"User-User Collaborative Filtering Model : Test Set\")\n",
    "accuracy.rmse(user_user_pred, verbose=True)"
   ]
  },
  {
   "cell_type": "code",
   "execution_count": 113,
   "metadata": {},
   "outputs": [
    {
     "name": "stdout",
     "output_type": "stream",
     "text": [
      "Item-Item Collaborative Filtering Model : Test Set\n",
      "MAE:  0.7721\n"
     ]
    },
    {
     "data": {
      "text/plain": [
       "0.7721493550044846"
      ]
     },
     "execution_count": 113,
     "metadata": {},
     "output_type": "execute_result"
    }
   ],
   "source": [
    "### MAE (Mean Absolute Error)\n",
    "print(\"Item-Item Collaborative Filtering Model : Test Set\")\n",
    "accuracy.mae(user_user_pred, verbose=True)"
   ]
  },
  {
   "cell_type": "code",
   "execution_count": 41,
   "metadata": {},
   "outputs": [],
   "source": [
    "### To inspect our predictions in details, we are going to build a pandas data frame with all the predictions. \n",
    "\n",
    "def get_Iu(uid):\n",
    "    \"\"\" return the number of items rated by given user\n",
    "    args: \n",
    "      uid: the id of the user\n",
    "    returns: \n",
    "      the number of items rated by the user\n",
    "    \"\"\"\n",
    "    try:\n",
    "        return len(train_set.ur[train_set.to_inner_uid(uid)])\n",
    "    except ValueError: # user was not part of the trainset\n",
    "        return 0\n",
    "    \n",
    "def get_Ui(iid):\n",
    "    \"\"\" return number of users that have rated given item\n",
    "    args:\n",
    "      iid: the raw id of the item\n",
    "    returns:\n",
    "      the number of users that have rated the item.\n",
    "    \"\"\"\n",
    "    try: \n",
    "        return len(train_set.ir[train_set.to_inner_iid(iid)])\n",
    "    except ValueError:\n",
    "        return 0"
   ]
  },
  {
   "cell_type": "code",
   "execution_count": 43,
   "metadata": {},
   "outputs": [],
   "source": [
    " \n",
    "analysis_df = pd.DataFrame(item_item_pred, columns=['uid', 'iid', 'rui', 'est', 'details'])\n",
    "analysis_df['Iu'] = analysis_df.uid.apply(get_Iu)\n",
    "analysis_df['Ui'] = analysis_df.iid.apply(get_Ui)\n",
    "analysis_df['err'] = abs(analysis_df.est - analysis_df.rui)\n",
    "best_predictions = analysis_df.sort_values(by='err')[:10]\n",
    "worst_predictions = analysis_df.sort_values(by='err')[-10:]"
   ]
  },
  {
   "cell_type": "code",
   "execution_count": 142,
   "metadata": {},
   "outputs": [
    {
     "data": {
      "text/html": [
       "<div>\n",
       "<style scoped>\n",
       "    .dataframe tbody tr th:only-of-type {\n",
       "        vertical-align: middle;\n",
       "    }\n",
       "\n",
       "    .dataframe tbody tr th {\n",
       "        vertical-align: top;\n",
       "    }\n",
       "\n",
       "    .dataframe thead th {\n",
       "        text-align: right;\n",
       "    }\n",
       "</style>\n",
       "<table border=\"1\" class=\"dataframe\">\n",
       "  <thead>\n",
       "    <tr style=\"text-align: right;\">\n",
       "      <th></th>\n",
       "      <th>uid</th>\n",
       "      <th>iid</th>\n",
       "      <th>rui</th>\n",
       "      <th>est</th>\n",
       "      <th>details</th>\n",
       "      <th>Iu</th>\n",
       "      <th>Ui</th>\n",
       "      <th>err</th>\n",
       "    </tr>\n",
       "  </thead>\n",
       "  <tbody>\n",
       "    <tr>\n",
       "      <td>18325</td>\n",
       "      <td>A2NB2E5DXE319Z</td>\n",
       "      <td>B00IVPU6AA</td>\n",
       "      <td>5.0</td>\n",
       "      <td>5.0</td>\n",
       "      <td>{'actual_k': 0, 'was_impossible': False}</td>\n",
       "      <td>109</td>\n",
       "      <td>8</td>\n",
       "      <td>0.0</td>\n",
       "    </tr>\n",
       "    <tr>\n",
       "      <td>16315</td>\n",
       "      <td>A1B0NL8UWAELI7</td>\n",
       "      <td>B005LJKEXS</td>\n",
       "      <td>5.0</td>\n",
       "      <td>5.0</td>\n",
       "      <td>{'actual_k': 0, 'was_impossible': False}</td>\n",
       "      <td>42</td>\n",
       "      <td>2</td>\n",
       "      <td>0.0</td>\n",
       "    </tr>\n",
       "    <tr>\n",
       "      <td>16316</td>\n",
       "      <td>A3V7D0LH8L7BG0</td>\n",
       "      <td>B003CGMQ38</td>\n",
       "      <td>3.0</td>\n",
       "      <td>3.0</td>\n",
       "      <td>{'actual_k': 0, 'was_impossible': False}</td>\n",
       "      <td>118</td>\n",
       "      <td>8</td>\n",
       "      <td>0.0</td>\n",
       "    </tr>\n",
       "    <tr>\n",
       "      <td>16339</td>\n",
       "      <td>A2HNH4PKE5DPSI</td>\n",
       "      <td>B001S2PK72</td>\n",
       "      <td>5.0</td>\n",
       "      <td>5.0</td>\n",
       "      <td>{'actual_k': 0, 'was_impossible': False}</td>\n",
       "      <td>52</td>\n",
       "      <td>1</td>\n",
       "      <td>0.0</td>\n",
       "    </tr>\n",
       "    <tr>\n",
       "      <td>3737</td>\n",
       "      <td>A16QODENBJVUI1</td>\n",
       "      <td>B008R7EXCE</td>\n",
       "      <td>5.0</td>\n",
       "      <td>5.0</td>\n",
       "      <td>{'actual_k': 1, 'was_impossible': False}</td>\n",
       "      <td>63</td>\n",
       "      <td>5</td>\n",
       "      <td>0.0</td>\n",
       "    </tr>\n",
       "    <tr>\n",
       "      <td>16351</td>\n",
       "      <td>A1Z7U9K6X3FEOU</td>\n",
       "      <td>B00008BO8M</td>\n",
       "      <td>5.0</td>\n",
       "      <td>5.0</td>\n",
       "      <td>{'actual_k': 0, 'was_impossible': False}</td>\n",
       "      <td>52</td>\n",
       "      <td>1</td>\n",
       "      <td>0.0</td>\n",
       "    </tr>\n",
       "    <tr>\n",
       "      <td>16361</td>\n",
       "      <td>A1KSNK256G46GX</td>\n",
       "      <td>B000V1JUJU</td>\n",
       "      <td>5.0</td>\n",
       "      <td>5.0</td>\n",
       "      <td>{'actual_k': 0, 'was_impossible': False}</td>\n",
       "      <td>36</td>\n",
       "      <td>1</td>\n",
       "      <td>0.0</td>\n",
       "    </tr>\n",
       "    <tr>\n",
       "      <td>3734</td>\n",
       "      <td>A274MXTX3DYLUV</td>\n",
       "      <td>B0007QQJWA</td>\n",
       "      <td>5.0</td>\n",
       "      <td>5.0</td>\n",
       "      <td>{'actual_k': 0, 'was_impossible': False}</td>\n",
       "      <td>47</td>\n",
       "      <td>2</td>\n",
       "      <td>0.0</td>\n",
       "    </tr>\n",
       "    <tr>\n",
       "      <td>16370</td>\n",
       "      <td>A3S3VSXEFXBMRC</td>\n",
       "      <td>B000J1E2JU</td>\n",
       "      <td>5.0</td>\n",
       "      <td>5.0</td>\n",
       "      <td>{'actual_k': 0, 'was_impossible': False}</td>\n",
       "      <td>56</td>\n",
       "      <td>1</td>\n",
       "      <td>0.0</td>\n",
       "    </tr>\n",
       "    <tr>\n",
       "      <td>16378</td>\n",
       "      <td>ADOR3TR7GDF68</td>\n",
       "      <td>B001TH7GUU</td>\n",
       "      <td>5.0</td>\n",
       "      <td>5.0</td>\n",
       "      <td>{'actual_k': 5, 'was_impossible': False}</td>\n",
       "      <td>76</td>\n",
       "      <td>58</td>\n",
       "      <td>0.0</td>\n",
       "    </tr>\n",
       "  </tbody>\n",
       "</table>\n",
       "</div>"
      ],
      "text/plain": [
       "                  uid         iid  rui  est  \\\n",
       "18325  A2NB2E5DXE319Z  B00IVPU6AA  5.0  5.0   \n",
       "16315  A1B0NL8UWAELI7  B005LJKEXS  5.0  5.0   \n",
       "16316  A3V7D0LH8L7BG0  B003CGMQ38  3.0  3.0   \n",
       "16339  A2HNH4PKE5DPSI  B001S2PK72  5.0  5.0   \n",
       "3737   A16QODENBJVUI1  B008R7EXCE  5.0  5.0   \n",
       "16351  A1Z7U9K6X3FEOU  B00008BO8M  5.0  5.0   \n",
       "16361  A1KSNK256G46GX  B000V1JUJU  5.0  5.0   \n",
       "3734   A274MXTX3DYLUV  B0007QQJWA  5.0  5.0   \n",
       "16370  A3S3VSXEFXBMRC  B000J1E2JU  5.0  5.0   \n",
       "16378   ADOR3TR7GDF68  B001TH7GUU  5.0  5.0   \n",
       "\n",
       "                                        details   Iu  Ui  err  \n",
       "18325  {'actual_k': 0, 'was_impossible': False}  109   8  0.0  \n",
       "16315  {'actual_k': 0, 'was_impossible': False}   42   2  0.0  \n",
       "16316  {'actual_k': 0, 'was_impossible': False}  118   8  0.0  \n",
       "16339  {'actual_k': 0, 'was_impossible': False}   52   1  0.0  \n",
       "3737   {'actual_k': 1, 'was_impossible': False}   63   5  0.0  \n",
       "16351  {'actual_k': 0, 'was_impossible': False}   52   1  0.0  \n",
       "16361  {'actual_k': 0, 'was_impossible': False}   36   1  0.0  \n",
       "3734   {'actual_k': 0, 'was_impossible': False}   47   2  0.0  \n",
       "16370  {'actual_k': 0, 'was_impossible': False}   56   1  0.0  \n",
       "16378  {'actual_k': 5, 'was_impossible': False}   76  58  0.0  "
      ]
     },
     "execution_count": 142,
     "metadata": {},
     "output_type": "execute_result"
    }
   ],
   "source": [
    "best_predictions"
   ]
  },
  {
   "cell_type": "code",
   "execution_count": 147,
   "metadata": {},
   "outputs": [
    {
     "data": {
      "text/plain": [
       "<matplotlib.axes._subplots.AxesSubplot at 0x20641de7288>"
      ]
     },
     "execution_count": 147,
     "metadata": {},
     "output_type": "execute_result"
    },
    {
     "data": {
      "image/png": "[encoded data removed]",
      "text/plain": [
       "<Figure size 432x288 with 1 Axes>"
      ]
     },
     "metadata": {
      "needs_background": "light"
     },
     "output_type": "display_data"
    }
   ],
   "source": [
    "### We are going to plot histogram of the ratings for the product B00IVPU6AA to check why it has best prediction\n",
    "filtered_df.loc[filtered_df['ProductId'] == 'B00IVPU6AA']['Rating'].hist()"
   ]
  },
  {
   "cell_type": "markdown",
   "metadata": {},
   "source": [
    "__Observation__: As the ratings for this book are same from 14 different users the algorithm has got zero error in prediction. Similarly we can do this type of analysis for all the products why they got best score.\n",
    "7"
   ]
  },
  {
   "cell_type": "code",
   "execution_count": 134,
   "metadata": {},
   "outputs": [
    {
     "data": {
      "text/html": [
       "<div>\n",
       "<style scoped>\n",
       "    .dataframe tbody tr th:only-of-type {\n",
       "        vertical-align: middle;\n",
       "    }\n",
       "\n",
       "    .dataframe tbody tr th {\n",
       "        vertical-align: top;\n",
       "    }\n",
       "\n",
       "    .dataframe thead th {\n",
       "        text-align: right;\n",
       "    }\n",
       "</style>\n",
       "<table border=\"1\" class=\"dataframe\">\n",
       "  <thead>\n",
       "    <tr style=\"text-align: right;\">\n",
       "      <th></th>\n",
       "      <th>uid</th>\n",
       "      <th>iid</th>\n",
       "      <th>rui</th>\n",
       "      <th>est</th>\n",
       "      <th>details</th>\n",
       "      <th>Iu</th>\n",
       "      <th>Ui</th>\n",
       "      <th>err</th>\n",
       "    </tr>\n",
       "  </thead>\n",
       "  <tbody>\n",
       "    <tr>\n",
       "      <td>6613</td>\n",
       "      <td>A1KD8NJPZ01R37</td>\n",
       "      <td>B000ML4RK6</td>\n",
       "      <td>1.0</td>\n",
       "      <td>5.0</td>\n",
       "      <td>{'actual_k': 0, 'was_impossible': False}</td>\n",
       "      <td>65</td>\n",
       "      <td>1</td>\n",
       "      <td>4.0</td>\n",
       "    </tr>\n",
       "    <tr>\n",
       "      <td>7914</td>\n",
       "      <td>A2NX6MFZP8TM6S</td>\n",
       "      <td>B000BQ57BU</td>\n",
       "      <td>5.0</td>\n",
       "      <td>1.0</td>\n",
       "      <td>{'actual_k': 1, 'was_impossible': False}</td>\n",
       "      <td>39</td>\n",
       "      <td>7</td>\n",
       "      <td>4.0</td>\n",
       "    </tr>\n",
       "    <tr>\n",
       "      <td>12453</td>\n",
       "      <td>A1ZU55TM45Y2R8</td>\n",
       "      <td>B001212ELY</td>\n",
       "      <td>1.0</td>\n",
       "      <td>5.0</td>\n",
       "      <td>{'actual_k': 0, 'was_impossible': False}</td>\n",
       "      <td>124</td>\n",
       "      <td>4</td>\n",
       "      <td>4.0</td>\n",
       "    </tr>\n",
       "    <tr>\n",
       "      <td>12529</td>\n",
       "      <td>A11ULAZ4B5ZXC8</td>\n",
       "      <td>B0097JLRZM</td>\n",
       "      <td>5.0</td>\n",
       "      <td>1.0</td>\n",
       "      <td>{'actual_k': 0, 'was_impossible': False}</td>\n",
       "      <td>41</td>\n",
       "      <td>1</td>\n",
       "      <td>4.0</td>\n",
       "    </tr>\n",
       "    <tr>\n",
       "      <td>12638</td>\n",
       "      <td>A1PM7HH4F77NEH</td>\n",
       "      <td>B000A6NUU6</td>\n",
       "      <td>1.0</td>\n",
       "      <td>5.0</td>\n",
       "      <td>{'actual_k': 0, 'was_impossible': False}</td>\n",
       "      <td>45</td>\n",
       "      <td>1</td>\n",
       "      <td>4.0</td>\n",
       "    </tr>\n",
       "    <tr>\n",
       "      <td>20431</td>\n",
       "      <td>A2MOJANFPX353G</td>\n",
       "      <td>B0011E324K</td>\n",
       "      <td>5.0</td>\n",
       "      <td>1.0</td>\n",
       "      <td>{'actual_k': 0, 'was_impossible': False}</td>\n",
       "      <td>32</td>\n",
       "      <td>1</td>\n",
       "      <td>4.0</td>\n",
       "    </tr>\n",
       "    <tr>\n",
       "      <td>12640</td>\n",
       "      <td>A2X06FP2PQ6EK0</td>\n",
       "      <td>B004M8SVDE</td>\n",
       "      <td>5.0</td>\n",
       "      <td>1.0</td>\n",
       "      <td>{'actual_k': 0, 'was_impossible': False}</td>\n",
       "      <td>48</td>\n",
       "      <td>2</td>\n",
       "      <td>4.0</td>\n",
       "    </tr>\n",
       "    <tr>\n",
       "      <td>7832</td>\n",
       "      <td>A2TRXEZYU9GYY8</td>\n",
       "      <td>B002T0EK64</td>\n",
       "      <td>5.0</td>\n",
       "      <td>1.0</td>\n",
       "      <td>{'actual_k': 0, 'was_impossible': False}</td>\n",
       "      <td>38</td>\n",
       "      <td>1</td>\n",
       "      <td>4.0</td>\n",
       "    </tr>\n",
       "    <tr>\n",
       "      <td>34863</td>\n",
       "      <td>A2503LT8PZIHAD</td>\n",
       "      <td>B001R4BTLC</td>\n",
       "      <td>5.0</td>\n",
       "      <td>1.0</td>\n",
       "      <td>{'actual_k': 1, 'was_impossible': False}</td>\n",
       "      <td>78</td>\n",
       "      <td>5</td>\n",
       "      <td>4.0</td>\n",
       "    </tr>\n",
       "    <tr>\n",
       "      <td>34489</td>\n",
       "      <td>A3U41ZL33SS92P</td>\n",
       "      <td>B001SJVU6K</td>\n",
       "      <td>5.0</td>\n",
       "      <td>1.0</td>\n",
       "      <td>{'actual_k': 1, 'was_impossible': False}</td>\n",
       "      <td>141</td>\n",
       "      <td>8</td>\n",
       "      <td>4.0</td>\n",
       "    </tr>\n",
       "  </tbody>\n",
       "</table>\n",
       "</div>"
      ],
      "text/plain": [
       "                  uid         iid  rui  est  \\\n",
       "6613   A1KD8NJPZ01R37  B000ML4RK6  1.0  5.0   \n",
       "7914   A2NX6MFZP8TM6S  B000BQ57BU  5.0  1.0   \n",
       "12453  A1ZU55TM45Y2R8  B001212ELY  1.0  5.0   \n",
       "12529  A11ULAZ4B5ZXC8  B0097JLRZM  5.0  1.0   \n",
       "12638  A1PM7HH4F77NEH  B000A6NUU6  1.0  5.0   \n",
       "20431  A2MOJANFPX353G  B0011E324K  5.0  1.0   \n",
       "12640  A2X06FP2PQ6EK0  B004M8SVDE  5.0  1.0   \n",
       "7832   A2TRXEZYU9GYY8  B002T0EK64  5.0  1.0   \n",
       "34863  A2503LT8PZIHAD  B001R4BTLC  5.0  1.0   \n",
       "34489  A3U41ZL33SS92P  B001SJVU6K  5.0  1.0   \n",
       "\n",
       "                                        details   Iu  Ui  err  \n",
       "6613   {'actual_k': 0, 'was_impossible': False}   65   1  4.0  \n",
       "7914   {'actual_k': 1, 'was_impossible': False}   39   7  4.0  \n",
       "12453  {'actual_k': 0, 'was_impossible': False}  124   4  4.0  \n",
       "12529  {'actual_k': 0, 'was_impossible': False}   41   1  4.0  \n",
       "12638  {'actual_k': 0, 'was_impossible': False}   45   1  4.0  \n",
       "20431  {'actual_k': 0, 'was_impossible': False}   32   1  4.0  \n",
       "12640  {'actual_k': 0, 'was_impossible': False}   48   2  4.0  \n",
       "7832   {'actual_k': 0, 'was_impossible': False}   38   1  4.0  \n",
       "34863  {'actual_k': 1, 'was_impossible': False}   78   5  4.0  \n",
       "34489  {'actual_k': 1, 'was_impossible': False}  141   8  4.0  "
      ]
     },
     "execution_count": 134,
     "metadata": {},
     "output_type": "execute_result"
    }
   ],
   "source": [
    "worst_predictions"
   ]
  },
  {
   "cell_type": "code",
   "execution_count": 146,
   "metadata": {},
   "outputs": [
    {
     "data": {
      "text/plain": [
       "<matplotlib.axes._subplots.AxesSubplot at 0x20641de7188>"
      ]
     },
     "execution_count": 146,
     "metadata": {},
     "output_type": "execute_result"
    },
    {
     "data": {
      "image/png": "[encoded data removed]",
      "text/plain": [
       "<Figure size 432x288 with 1 Axes>"
      ]
     },
     "metadata": {
      "needs_background": "light"
     },
     "output_type": "display_data"
    }
   ],
   "source": [
    "### We are going to plot histogram of the ratings for the product B000ML4RK6 to check why it has worst prediction\n",
    "filtered_df.loc[filtered_df['ProductId'] == 'B000ML4RK6']['Rating'].hist()"
   ]
  },
  {
   "cell_type": "markdown",
   "metadata": {},
   "source": [
    "__Observation__: As the ratings for this book are completely different from two users the algorithm has got hiegest error in prediction. Similarly we can do this type of analysis for all the products why they got worst score."
   ]
  },
  {
   "cell_type": "markdown",
   "metadata": {},
   "source": [
    "### Model Based Collaborative Filtering"
   ]
  },
  {
   "cell_type": "code",
   "execution_count": 61,
   "metadata": {},
   "outputs": [],
   "source": [
    "svd_model_predictions = svd_model.test(test_set)"
   ]
  },
  {
   "cell_type": "code",
   "execution_count": 64,
   "metadata": {},
   "outputs": [
    {
     "data": {
      "text/plain": [
       "[Prediction(uid='AJL3U764D7NI3', iid='B0002LEMWE', r_ui=5.0, est=4.955966094075813, details={'was_impossible': False}),\n",
       " Prediction(uid='A2RU4U1JZ3DMP5', iid='B0031AQ302', r_ui=4.0, est=4.144445767456589, details={'was_impossible': False}),\n",
       " Prediction(uid='A84FLVDK2R5JF', iid='B004N625AK', r_ui=5.0, est=4.211418465718255, details={'was_impossible': False}),\n",
       " Prediction(uid='A32482Z7XIKDQX', iid='B00EBPNC78', r_ui=5.0, est=4.456887111320788, details={'was_impossible': False}),\n",
       " Prediction(uid='A3A4ZAIBQWKOZS', iid='B00067OEPO', r_ui=4.0, est=4.528312268503909, details={'was_impossible': False}),\n",
       " Prediction(uid='A3W4D8XOGLWUN5', iid='B004MPR0ZC', r_ui=4.0, est=3.8157474830298743, details={'was_impossible': False}),\n",
       " Prediction(uid='A1E1LEVQ9VQNK', iid='B005OOKNP4', r_ui=5.0, est=4.740865740714807, details={'was_impossible': False}),\n",
       " Prediction(uid='A1UQBFCERIP7VJ', iid='B00834SJSK', r_ui=5.0, est=4.813648644902005, details={'was_impossible': False}),\n",
       " Prediction(uid='APBDZ88BBTN4F', iid='B001OI2YNS', r_ui=5.0, est=4.076413081250205, details={'was_impossible': False}),\n",
       " Prediction(uid='ACY9QYNDFLVBI', iid='B007B5RIYI', r_ui=5.0, est=4.631356614680934, details={'was_impossible': False})]"
      ]
     },
     "execution_count": 64,
     "metadata": {},
     "output_type": "execute_result"
    }
   ],
   "source": [
    "svd_model_predictions[:10]"
   ]
  },
  {
   "cell_type": "code",
   "execution_count": 52,
   "metadata": {},
   "outputs": [
    {
     "name": "stdout",
     "output_type": "stream",
     "text": [
      "SVD Collaborative Filtering Model : RMSE\n",
      "RMSE: 0.9735\n"
     ]
    },
    {
     "data": {
      "text/plain": [
       "0.973474315542883"
      ]
     },
     "execution_count": 52,
     "metadata": {},
     "output_type": "execute_result"
    }
   ],
   "source": [
    "### RMSE\n",
    "print(\"SVD Collaborative Filtering Model : RMSE\")\n",
    "accuracy.rmse(svd_model_predictions, verbose=True)"
   ]
  },
  {
   "cell_type": "code",
   "execution_count": 53,
   "metadata": {},
   "outputs": [
    {
     "name": "stdout",
     "output_type": "stream",
     "text": [
      "SVD Collaborative Filtering Model : MAE\n",
      "MAE:  0.7292\n"
     ]
    },
    {
     "data": {
      "text/plain": [
       "0.7292445957782889"
      ]
     },
     "execution_count": 53,
     "metadata": {},
     "output_type": "execute_result"
    }
   ],
   "source": [
    "### MAE (Mean Absolute Error)\n",
    "print(\"SVD Collaborative Filtering Model : MAE\")\n",
    "accuracy.mae(svd_model_predictions, verbose=True)"
   ]
  },
  {
   "cell_type": "markdown",
   "metadata": {},
   "source": [
    "__Observation__: SVD has better RMSE value compare to both item-item and user-user collaborative filtering models. "
   ]
  },
  {
   "cell_type": "markdown",
   "metadata": {},
   "source": [
    "## 7. Get top - K ( K = 5) recommendations. Since our goal is to recommend new products to each user based on his/her habits, we will recommend 5 new products."
   ]
  },
  {
   "cell_type": "code",
   "execution_count": 23,
   "metadata": {},
   "outputs": [],
   "source": [
    "def get_top_n(predictions, n=10):\n",
    "    # First map the predictions to each user.\n",
    "    top_n = defaultdict(list)\n",
    "    for uid, iid, true_r, est, _ in predictions:\n",
    "        top_n[uid].append((iid, est))\n",
    "\n",
    "    # Then sort the predictions for each user and retrieve the k highest ones.\n",
    "    for uid, user_ratings in top_n.items():\n",
    "        user_ratings.sort(key=lambda x: x[1], reverse=True)\n",
    "        top_n[uid] = user_ratings[:n]\n",
    "\n",
    "    return top_n"
   ]
  },
  {
   "cell_type": "markdown",
   "metadata": {},
   "source": [
    "### Memory Based Collaborative Filtering"
   ]
  },
  {
   "cell_type": "code",
   "execution_count": 54,
   "metadata": {},
   "outputs": [],
   "source": [
    "### Capture the top 5 products of each user from the evoluated predictions\n",
    "K= 5\n",
    "knn_top_n = get_top_n(item_item_pred, K)"
   ]
  },
  {
   "cell_type": "code",
   "execution_count": 62,
   "metadata": {},
   "outputs": [
    {
     "name": "stdout",
     "output_type": "stream",
     "text": [
      "AJL3U764D7NI3 ['B0002LEMWE', 'B009HP42HQ', 'B000CKVOOY', 'B00AYQ433U', 'B00CDY0DSA']\n",
      "A2RU4U1JZ3DMP5 ['B004UHYUZU', 'B001G70M6S', 'B00007E89K', 'B002C76W4C', 'B002MU1ZRS']\n",
      "A84FLVDK2R5JF ['B001P05NBA', 'B001RQ1R8U', 'B00C4Q61Z6', 'B005KFONIU', 'B00486MH80']\n",
      "A32482Z7XIKDQX ['B009W34X5O', 'B0030F2U82', 'B00GTGETFG', 'B009NHAEXE', 'B0015DYMVO']\n",
      "A3A4ZAIBQWKOZS ['B00G5OAT88', 'B003UI62AG', 'B0081EAK34', 'B001CF60R4', 'B00JEVHZHC']\n",
      "A3W4D8XOGLWUN5 ['B000HVVO98', 'B00001OWYM', 'B000BONJXU', 'B0002ZAILY', 'B0097BEF1S']\n",
      "A1E1LEVQ9VQNK ['B00DDH4TYA', 'B00HZN1WXE', 'B009BEXSNW', 'B0018Z0PWY', 'B0082E9K7U']\n",
      "A1UQBFCERIP7VJ ['B00F1CRTLK', 'B001C4VRZK', 'B00B8O6IIK', 'B00E1CZRHY', 'B00EQD5ZS4']\n",
      "APBDZ88BBTN4F ['B004K1EOCA', 'B00IVPU59W', 'B009AZSYC2', 'B001OI2YNS', 'B007KZQM8W']\n",
      "ACY9QYNDFLVBI ['B007B5RIYI', 'B004RFGALC', 'B001FO4QHI', 'B004Z0S6RU', 'B007G5NNOW']\n"
     ]
    }
   ],
   "source": [
    "# Print the recommended top 5 products for each user using KNNWithMeans algorithm\n",
    "count = 0\n",
    "for uid, user_ratings in knn_top_n.items():\n",
    "    print(uid, [iid for (iid, _) in user_ratings])\n",
    "    count = count+1\n",
    "    if(count==10):\n",
    "        break"
   ]
  },
  {
   "cell_type": "code",
   "execution_count": 91,
   "metadata": {},
   "outputs": [
    {
     "data": {
      "text/plain": [
       "[('B004UHYUZU', 5),\n",
       " ('B001G70M6S', 5),\n",
       " ('B00007E89K', 5),\n",
       " ('B002C76W4C', 5),\n",
       " ('B002MU1ZRS', 4.833333333333333)]"
      ]
     },
     "execution_count": 91,
     "metadata": {},
     "output_type": "execute_result"
    }
   ],
   "source": [
    "### For example to get Top 5 recommendations for the user id A2RU4U1JZ3DMP5\n",
    "knn_top_n['A2RU4U1JZ3DMP5']"
   ]
  },
  {
   "cell_type": "markdown",
   "metadata": {},
   "source": [
    "### Model Based Collaborative Filtering"
   ]
  },
  {
   "cell_type": "code",
   "execution_count": 56,
   "metadata": {},
   "outputs": [],
   "source": [
    "### Capture the top 5 products of each user from the evoluated predictions\n",
    "K= 5\n",
    "svd_top_n = get_top_n(svd_model_predictions, K)"
   ]
  },
  {
   "cell_type": "code",
   "execution_count": 61,
   "metadata": {},
   "outputs": [
    {
     "name": "stdout",
     "output_type": "stream",
     "text": [
      "AJL3U764D7NI3 ['B0002LEMWE', 'B000CKVOOY', 'B009HP42HQ', 'B00AYQ433U', 'B003PHJJV6']\n",
      "A2RU4U1JZ3DMP5 ['B001TUYTZM', 'B0000BZL5A', 'B00007E89K', 'B000L47AHG', 'B002MU1ZRS']\n",
      "A84FLVDK2R5JF ['B001P05NBA', 'B005KFONIU', 'B002TLTE6O', 'B003FST9EC', 'B000O8WE66']\n",
      "A32482Z7XIKDQX ['B00GTGETFG', 'B009W34X5O', 'B009NHAEXE', 'B0030F2U82', 'B000PNGM18']\n",
      "A3A4ZAIBQWKOZS ['B0000BZL1P', 'B003ES5ZUU', 'B00COF7DGS', 'B00IX2VGFA', 'B00GO4GMAI']\n",
      "A3W4D8XOGLWUN5 ['B007WTAJTO', 'B00BOHNYTW', 'B001F7AHOG', 'B0097BEF1S', 'B0002ZAILY']\n",
      "A1E1LEVQ9VQNK ['B0082E9K7U', 'B00E3FHXYO', 'B00D50UNRM', 'B002WE4HE2', 'B003ES5ZR8']\n",
      "A1UQBFCERIP7VJ ['B004CLYEDC', 'B00G4UQ6U8', 'B00834SJSK', 'B00BB72WX4', 'B00BANM6HQ']\n",
      "APBDZ88BBTN4F ['B00IVPU59W', 'B007KZQM8W', 'B004K1EOCA', 'B001OI2YNS', 'B00FNPD1OY']\n",
      "ACY9QYNDFLVBI ['B000JMJWV2', 'B006EKIQYM', 'B001FO4QHI', 'B0093H8H8I', 'B004Z0S6RU']\n"
     ]
    }
   ],
   "source": [
    "# Print the recommended top 5 products for each user\n",
    "count=0\n",
    "for uid, user_ratings in svd_top_n.items():\n",
    "    print(uid, [iid for (iid, _) in user_ratings])\n",
    "    count = count+1\n",
    "    if(count==10):\n",
    "        break"
   ]
  },
  {
   "cell_type": "code",
   "execution_count": 90,
   "metadata": {},
   "outputs": [
    {
     "data": {
      "text/plain": [
       "[('B001TUYTZM', 4.528972292634269),\n",
       " ('B0000BZL5A', 4.481965461708522),\n",
       " ('B00007E89K', 4.434250587146046),\n",
       " ('B000L47AHG', 4.419144753240528),\n",
       " ('B002MU1ZRS', 4.3969027776345)]"
      ]
     },
     "execution_count": 90,
     "metadata": {},
     "output_type": "execute_result"
    }
   ],
   "source": [
    "### For example to get Top 5 recommendations for the user id A2RU4U1JZ3DMP5\n",
    "svd_top_n['A2RU4U1JZ3DMP5']"
   ]
  },
  {
   "cell_type": "markdown",
   "metadata": {},
   "source": [
    "## 8. Summarise your insights."
   ]
  },
  {
   "cell_type": "markdown",
   "metadata": {},
   "source": [
    "__Summary__:\n",
    "\n",
    "<li>By using Popularity Based Recommendation we came to know the products which have the highest number of reviews with the mean user ratings. This is basically used for the items which are in trend right now. The problem with this recommendation system is, it is not personalized to individual users.\n",
    "<li>Memory Based Collaborative Recommendation System with KNN model we can identify the like minded users or similar type of products. We have modeled both item-item and user-user based Collaborative Recommendation and calculated the RMSE and MAE for both. By using these models we can estimate the ratings of users or products which are empty in the user-item association matrix.\n",
    "<li>With Model Based Collaborative Recommendation System using Singular Value Decomposition we can derive the N - number of recommendations to the users. This algorithm uses Matrix Factorization method.\n",
    "<li>Finally we derived the recommendations to all the users with top 5 products using both KNNWithMeans and SVD algorithms."
   ]
  },
  {
   "cell_type": "markdown",
   "metadata": {},
   "source": [
    "<br><br><br><br><br><br>\n",
    "### Lets check for other best algorithms from surprise library with best RMSE value"
   ]
  },
  {
   "cell_type": "markdown",
   "metadata": {},
   "source": [
    "I borrowed this part from the internet which can identify the best Collaborative Filtering Model with best RMSE value.\n",
    "Here we are going to compare the different algorithms of surprise library like SVD, SVDpp, SlopeOne, NMF, NormalPredictor, KNNBaseline, KNNBasic, KNNWithMeans, KNNWithZScore, BaselineOnly, CoClustering"
   ]
  },
  {
   "cell_type": "code",
   "execution_count": 18,
   "metadata": {},
   "outputs": [
    {
     "name": "stdout",
     "output_type": "stream",
     "text": [
      "Estimating biases using als...\n",
      "Computing the msd similarity matrix...\n",
      "Done computing similarity matrix.\n",
      "Estimating biases using als...\n",
      "Computing the msd similarity matrix...\n",
      "Done computing similarity matrix.\n",
      "Estimating biases using als...\n",
      "Computing the msd similarity matrix...\n",
      "Done computing similarity matrix.\n",
      "Computing the msd similarity matrix...\n",
      "Done computing similarity matrix.\n",
      "Computing the msd similarity matrix...\n",
      "Done computing similarity matrix.\n",
      "Computing the msd similarity matrix...\n",
      "Done computing similarity matrix.\n",
      "Computing the msd similarity matrix...\n",
      "Done computing similarity matrix.\n",
      "Computing the msd similarity matrix...\n",
      "Done computing similarity matrix.\n",
      "Computing the msd similarity matrix...\n",
      "Done computing similarity matrix.\n",
      "Computing the msd similarity matrix...\n",
      "Done computing similarity matrix.\n",
      "Computing the msd similarity matrix...\n",
      "Done computing similarity matrix.\n",
      "Computing the msd similarity matrix...\n",
      "Done computing similarity matrix.\n",
      "Estimating biases using als...\n",
      "Estimating biases using als...\n",
      "Estimating biases using als...\n"
     ]
    },
    {
     "data": {
      "text/html": [
       "<div>\n",
       "<style scoped>\n",
       "    .dataframe tbody tr th:only-of-type {\n",
       "        vertical-align: middle;\n",
       "    }\n",
       "\n",
       "    .dataframe tbody tr th {\n",
       "        vertical-align: top;\n",
       "    }\n",
       "\n",
       "    .dataframe thead th {\n",
       "        text-align: right;\n",
       "    }\n",
       "</style>\n",
       "<table border=\"1\" class=\"dataframe\">\n",
       "  <thead>\n",
       "    <tr style=\"text-align: right;\">\n",
       "      <th></th>\n",
       "      <th>test_rmse</th>\n",
       "      <th>fit_time</th>\n",
       "      <th>test_time</th>\n",
       "    </tr>\n",
       "    <tr>\n",
       "      <th>Algorithm</th>\n",
       "      <th></th>\n",
       "      <th></th>\n",
       "      <th></th>\n",
       "    </tr>\n",
       "  </thead>\n",
       "  <tbody>\n",
       "    <tr>\n",
       "      <td>BaselineOnly</td>\n",
       "      <td>0.980215</td>\n",
       "      <td>0.477173</td>\n",
       "      <td>0.520666</td>\n",
       "    </tr>\n",
       "    <tr>\n",
       "      <td>SVDpp</td>\n",
       "      <td>0.982877</td>\n",
       "      <td>129.594592</td>\n",
       "      <td>5.678525</td>\n",
       "    </tr>\n",
       "    <tr>\n",
       "      <td>SVD</td>\n",
       "      <td>0.983814</td>\n",
       "      <td>7.167566</td>\n",
       "      <td>0.485331</td>\n",
       "    </tr>\n",
       "    <tr>\n",
       "      <td>KNNBaseline</td>\n",
       "      <td>1.042143</td>\n",
       "      <td>0.818071</td>\n",
       "      <td>1.808207</td>\n",
       "    </tr>\n",
       "    <tr>\n",
       "      <td>KNNWithMeans</td>\n",
       "      <td>1.065412</td>\n",
       "      <td>0.258663</td>\n",
       "      <td>1.556756</td>\n",
       "    </tr>\n",
       "    <tr>\n",
       "      <td>KNNWithZScore</td>\n",
       "      <td>1.066698</td>\n",
       "      <td>0.423331</td>\n",
       "      <td>1.680020</td>\n",
       "    </tr>\n",
       "    <tr>\n",
       "      <td>CoClustering</td>\n",
       "      <td>1.078788</td>\n",
       "      <td>11.086694</td>\n",
       "      <td>0.561999</td>\n",
       "    </tr>\n",
       "    <tr>\n",
       "      <td>SlopeOne</td>\n",
       "      <td>1.094166</td>\n",
       "      <td>104.264154</td>\n",
       "      <td>6.402761</td>\n",
       "    </tr>\n",
       "    <tr>\n",
       "      <td>KNNBasic</td>\n",
       "      <td>1.109367</td>\n",
       "      <td>0.182329</td>\n",
       "      <td>1.426666</td>\n",
       "    </tr>\n",
       "    <tr>\n",
       "      <td>NMF</td>\n",
       "      <td>1.146657</td>\n",
       "      <td>14.341140</td>\n",
       "      <td>0.612999</td>\n",
       "    </tr>\n",
       "    <tr>\n",
       "      <td>NormalPredictor</td>\n",
       "      <td>1.365146</td>\n",
       "      <td>0.230873</td>\n",
       "      <td>0.666000</td>\n",
       "    </tr>\n",
       "  </tbody>\n",
       "</table>\n",
       "</div>"
      ],
      "text/plain": [
       "                 test_rmse    fit_time  test_time\n",
       "Algorithm                                        \n",
       "BaselineOnly      0.980215    0.477173   0.520666\n",
       "SVDpp             0.982877  129.594592   5.678525\n",
       "SVD               0.983814    7.167566   0.485331\n",
       "KNNBaseline       1.042143    0.818071   1.808207\n",
       "KNNWithMeans      1.065412    0.258663   1.556756\n",
       "KNNWithZScore     1.066698    0.423331   1.680020\n",
       "CoClustering      1.078788   11.086694   0.561999\n",
       "SlopeOne          1.094166  104.264154   6.402761\n",
       "KNNBasic          1.109367    0.182329   1.426666\n",
       "NMF               1.146657   14.341140   0.612999\n",
       "NormalPredictor   1.365146    0.230873   0.666000"
      ]
     },
     "execution_count": 18,
     "metadata": {},
     "output_type": "execute_result"
    }
   ],
   "source": [
    "benchmark = []\n",
    "# Iterate over all algorithms\n",
    "for algorithm in [SVD(), SVDpp(), SlopeOne(), NMF(), NormalPredictor(), KNNBaseline(), KNNBasic(), KNNWithMeans(), KNNWithZScore(), BaselineOnly(), CoClustering()]:\n",
    "    # Perform cross validation\n",
    "    results = cross_validate(algorithm, df, measures=['RMSE'], cv=3, verbose=False)\n",
    "    \n",
    "    # Get results & append algorithm name\n",
    "    tmp = pd.DataFrame.from_dict(results).mean(axis=0)\n",
    "    tmp = tmp.append(pd.Series([str(algorithm).split(' ')[0].split('.')[-1]], index=['Algorithm']))\n",
    "    benchmark.append(tmp)\n",
    "    \n",
    "pd.DataFrame(benchmark).set_index('Algorithm').sort_values('test_rmse')  "
   ]
  },
  {
   "cell_type": "markdown",
   "metadata": {},
   "source": [
    "__Observation__: From the above table we can see that BaselineOnly algorithm give best RMSE in less time compare to other algorithms. Lets try to predict the recommendations using this algorithm."
   ]
  },
  {
   "cell_type": "code",
   "execution_count": 22,
   "metadata": {},
   "outputs": [
    {
     "name": "stdout",
     "output_type": "stream",
     "text": [
      "Estimating biases using als...\n"
     ]
    },
    {
     "data": {
      "text/plain": [
       "<surprise.prediction_algorithms.baseline_only.BaselineOnly at 0x16321560d08>"
      ]
     },
     "execution_count": 22,
     "metadata": {},
     "output_type": "execute_result"
    }
   ],
   "source": [
    "### Fit the data in BaselineOnly model\n",
    "baseline_only_model = BaselineOnly()\n",
    "baseline_only_model.fit(train_set)"
   ]
  },
  {
   "cell_type": "code",
   "execution_count": 25,
   "metadata": {},
   "outputs": [],
   "source": [
    "### Calculate the predictions with test data set\n",
    "baseline_only_predictions = baseline_only_model.test(test_set)"
   ]
  },
  {
   "cell_type": "code",
   "execution_count": 29,
   "metadata": {},
   "outputs": [
    {
     "name": "stdout",
     "output_type": "stream",
     "text": [
      "BaselineOnly Collaborative Filtering Model : RMSE\n",
      "RMSE: 0.9735\n"
     ]
    },
    {
     "data": {
      "text/plain": [
       "0.973474315542883"
      ]
     },
     "execution_count": 29,
     "metadata": {},
     "output_type": "execute_result"
    }
   ],
   "source": [
    "### RMSE (Mean Absolute Error)\n",
    "print(\"BaselineOnly Collaborative Filtering Model : RMSE\")\n",
    "accuracy.rmse(baseline_only_predictions, verbose=True)"
   ]
  },
  {
   "cell_type": "code",
   "execution_count": 30,
   "metadata": {},
   "outputs": [
    {
     "name": "stdout",
     "output_type": "stream",
     "text": [
      "BaselineOnly Collaborative Filtering Model : MAE\n",
      "MAE:  0.7292\n"
     ]
    },
    {
     "data": {
      "text/plain": [
       "0.7292445957782889"
      ]
     },
     "execution_count": 30,
     "metadata": {},
     "output_type": "execute_result"
    }
   ],
   "source": [
    "### MAE (Mean Absolute Error)\n",
    "print(\"BaselineOnly Collaborative Filtering Model : MAE\")\n",
    "accuracy.mae(baseline_only_predictions, verbose=True)"
   ]
  },
  {
   "cell_type": "code",
   "execution_count": 44,
   "metadata": {},
   "outputs": [],
   "source": [
    "### Identify the best predictions and the worst predictions of this algorithm\n",
    "baseline_analysis_df = pd.DataFrame(baseline_only_predictions, columns=['uid', 'iid', 'rui', 'est', 'details'])\n",
    "baseline_analysis_df['Iu'] = baseline_analysis_df.uid.apply(get_Iu)\n",
    "baseline_analysis_df['Ui'] = baseline_analysis_df.iid.apply(get_Ui)\n",
    "baseline_analysis_df['err'] = abs(baseline_analysis_df.est - baseline_analysis_df.rui)\n",
    "best_predictions = baseline_analysis_df.sort_values(by='err')[:10]\n",
    "worst_predictions = baseline_analysis_df.sort_values(by='err')[-10:]"
   ]
  },
  {
   "cell_type": "code",
   "execution_count": 46,
   "metadata": {},
   "outputs": [
    {
     "data": {
      "text/html": [
       "<div>\n",
       "<style scoped>\n",
       "    .dataframe tbody tr th:only-of-type {\n",
       "        vertical-align: middle;\n",
       "    }\n",
       "\n",
       "    .dataframe tbody tr th {\n",
       "        vertical-align: top;\n",
       "    }\n",
       "\n",
       "    .dataframe thead th {\n",
       "        text-align: right;\n",
       "    }\n",
       "</style>\n",
       "<table border=\"1\" class=\"dataframe\">\n",
       "  <thead>\n",
       "    <tr style=\"text-align: right;\">\n",
       "      <th></th>\n",
       "      <th>uid</th>\n",
       "      <th>iid</th>\n",
       "      <th>rui</th>\n",
       "      <th>est</th>\n",
       "      <th>details</th>\n",
       "      <th>Iu</th>\n",
       "      <th>Ui</th>\n",
       "      <th>err</th>\n",
       "    </tr>\n",
       "  </thead>\n",
       "  <tbody>\n",
       "    <tr>\n",
       "      <td>7038</td>\n",
       "      <td>A10O7THJ2O20AG</td>\n",
       "      <td>B006W8U2MU</td>\n",
       "      <td>5.0</td>\n",
       "      <td>5.0</td>\n",
       "      <td>{'was_impossible': False}</td>\n",
       "      <td>56</td>\n",
       "      <td>33</td>\n",
       "      <td>0.0</td>\n",
       "    </tr>\n",
       "    <tr>\n",
       "      <td>3529</td>\n",
       "      <td>A10O7THJ2O20AG</td>\n",
       "      <td>B00017LSPI</td>\n",
       "      <td>5.0</td>\n",
       "      <td>5.0</td>\n",
       "      <td>{'was_impossible': False}</td>\n",
       "      <td>56</td>\n",
       "      <td>31</td>\n",
       "      <td>0.0</td>\n",
       "    </tr>\n",
       "    <tr>\n",
       "      <td>16714</td>\n",
       "      <td>A328S9RN3U5M68</td>\n",
       "      <td>B00BLCVD9I</td>\n",
       "      <td>5.0</td>\n",
       "      <td>5.0</td>\n",
       "      <td>{'was_impossible': False}</td>\n",
       "      <td>49</td>\n",
       "      <td>7</td>\n",
       "      <td>0.0</td>\n",
       "    </tr>\n",
       "    <tr>\n",
       "      <td>9819</td>\n",
       "      <td>A1JWSDDIH5Z7DV</td>\n",
       "      <td>B004YKXGIK</td>\n",
       "      <td>5.0</td>\n",
       "      <td>5.0</td>\n",
       "      <td>{'was_impossible': False}</td>\n",
       "      <td>52</td>\n",
       "      <td>5</td>\n",
       "      <td>0.0</td>\n",
       "    </tr>\n",
       "    <tr>\n",
       "      <td>4547</td>\n",
       "      <td>A54SG05AV6S4H</td>\n",
       "      <td>B0007TOR08</td>\n",
       "      <td>5.0</td>\n",
       "      <td>5.0</td>\n",
       "      <td>{'was_impossible': False}</td>\n",
       "      <td>55</td>\n",
       "      <td>4</td>\n",
       "      <td>0.0</td>\n",
       "    </tr>\n",
       "    <tr>\n",
       "      <td>3502</td>\n",
       "      <td>A3D0UM4ZD2CMAW</td>\n",
       "      <td>B001XURPQI</td>\n",
       "      <td>5.0</td>\n",
       "      <td>5.0</td>\n",
       "      <td>{'was_impossible': False}</td>\n",
       "      <td>79</td>\n",
       "      <td>6</td>\n",
       "      <td>0.0</td>\n",
       "    </tr>\n",
       "    <tr>\n",
       "      <td>21262</td>\n",
       "      <td>A3PCEB9ND82AGE</td>\n",
       "      <td>B003ES5ZUU</td>\n",
       "      <td>5.0</td>\n",
       "      <td>5.0</td>\n",
       "      <td>{'was_impossible': False}</td>\n",
       "      <td>55</td>\n",
       "      <td>117</td>\n",
       "      <td>0.0</td>\n",
       "    </tr>\n",
       "    <tr>\n",
       "      <td>9759</td>\n",
       "      <td>A2GKMXRLI7KLFP</td>\n",
       "      <td>B000JMJWV2</td>\n",
       "      <td>5.0</td>\n",
       "      <td>5.0</td>\n",
       "      <td>{'was_impossible': False}</td>\n",
       "      <td>56</td>\n",
       "      <td>43</td>\n",
       "      <td>0.0</td>\n",
       "    </tr>\n",
       "    <tr>\n",
       "      <td>13071</td>\n",
       "      <td>A3HR0ZZOFKQ97N</td>\n",
       "      <td>B007WTAJTO</td>\n",
       "      <td>5.0</td>\n",
       "      <td>5.0</td>\n",
       "      <td>{'was_impossible': False}</td>\n",
       "      <td>70</td>\n",
       "      <td>110</td>\n",
       "      <td>0.0</td>\n",
       "    </tr>\n",
       "    <tr>\n",
       "      <td>34820</td>\n",
       "      <td>A2HDTOF8222KN3</td>\n",
       "      <td>B003ES5ZUU</td>\n",
       "      <td>5.0</td>\n",
       "      <td>5.0</td>\n",
       "      <td>{'was_impossible': False}</td>\n",
       "      <td>45</td>\n",
       "      <td>117</td>\n",
       "      <td>0.0</td>\n",
       "    </tr>\n",
       "  </tbody>\n",
       "</table>\n",
       "</div>"
      ],
      "text/plain": [
       "                  uid         iid  rui  est                    details  Iu  \\\n",
       "7038   A10O7THJ2O20AG  B006W8U2MU  5.0  5.0  {'was_impossible': False}  56   \n",
       "3529   A10O7THJ2O20AG  B00017LSPI  5.0  5.0  {'was_impossible': False}  56   \n",
       "16714  A328S9RN3U5M68  B00BLCVD9I  5.0  5.0  {'was_impossible': False}  49   \n",
       "9819   A1JWSDDIH5Z7DV  B004YKXGIK  5.0  5.0  {'was_impossible': False}  52   \n",
       "4547    A54SG05AV6S4H  B0007TOR08  5.0  5.0  {'was_impossible': False}  55   \n",
       "3502   A3D0UM4ZD2CMAW  B001XURPQI  5.0  5.0  {'was_impossible': False}  79   \n",
       "21262  A3PCEB9ND82AGE  B003ES5ZUU  5.0  5.0  {'was_impossible': False}  55   \n",
       "9759   A2GKMXRLI7KLFP  B000JMJWV2  5.0  5.0  {'was_impossible': False}  56   \n",
       "13071  A3HR0ZZOFKQ97N  B007WTAJTO  5.0  5.0  {'was_impossible': False}  70   \n",
       "34820  A2HDTOF8222KN3  B003ES5ZUU  5.0  5.0  {'was_impossible': False}  45   \n",
       "\n",
       "        Ui  err  \n",
       "7038    33  0.0  \n",
       "3529    31  0.0  \n",
       "16714    7  0.0  \n",
       "9819     5  0.0  \n",
       "4547     4  0.0  \n",
       "3502     6  0.0  \n",
       "21262  117  0.0  \n",
       "9759    43  0.0  \n",
       "13071  110  0.0  \n",
       "34820  117  0.0  "
      ]
     },
     "execution_count": 46,
     "metadata": {},
     "output_type": "execute_result"
    }
   ],
   "source": [
    "best_predictions"
   ]
  },
  {
   "cell_type": "code",
   "execution_count": 48,
   "metadata": {},
   "outputs": [
    {
     "data": {
      "text/html": [
       "<div>\n",
       "<style scoped>\n",
       "    .dataframe tbody tr th:only-of-type {\n",
       "        vertical-align: middle;\n",
       "    }\n",
       "\n",
       "    .dataframe tbody tr th {\n",
       "        vertical-align: top;\n",
       "    }\n",
       "\n",
       "    .dataframe thead th {\n",
       "        text-align: right;\n",
       "    }\n",
       "</style>\n",
       "<table border=\"1\" class=\"dataframe\">\n",
       "  <thead>\n",
       "    <tr style=\"text-align: right;\">\n",
       "      <th></th>\n",
       "      <th>uid</th>\n",
       "      <th>iid</th>\n",
       "      <th>rui</th>\n",
       "      <th>est</th>\n",
       "      <th>details</th>\n",
       "      <th>Iu</th>\n",
       "      <th>Ui</th>\n",
       "      <th>err</th>\n",
       "    </tr>\n",
       "  </thead>\n",
       "  <tbody>\n",
       "    <tr>\n",
       "      <td>18360</td>\n",
       "      <td>ACQYIC13JXAOI</td>\n",
       "      <td>B00IVPU7DG</td>\n",
       "      <td>1.0</td>\n",
       "      <td>4.781046</td>\n",
       "      <td>{'was_impossible': False}</td>\n",
       "      <td>64</td>\n",
       "      <td>12</td>\n",
       "      <td>3.781046</td>\n",
       "    </tr>\n",
       "    <tr>\n",
       "      <td>219</td>\n",
       "      <td>A25TQLMIAPI1T6</td>\n",
       "      <td>B00E98O7GC</td>\n",
       "      <td>1.0</td>\n",
       "      <td>4.784054</td>\n",
       "      <td>{'was_impossible': False}</td>\n",
       "      <td>44</td>\n",
       "      <td>17</td>\n",
       "      <td>3.784054</td>\n",
       "    </tr>\n",
       "    <tr>\n",
       "      <td>17245</td>\n",
       "      <td>ABE5E8B3J7MKY</td>\n",
       "      <td>B0033AF5WW</td>\n",
       "      <td>1.0</td>\n",
       "      <td>4.785512</td>\n",
       "      <td>{'was_impossible': False}</td>\n",
       "      <td>41</td>\n",
       "      <td>3</td>\n",
       "      <td>3.785512</td>\n",
       "    </tr>\n",
       "    <tr>\n",
       "      <td>2615</td>\n",
       "      <td>A1XXMNLOLKNO0I</td>\n",
       "      <td>B00817ZM70</td>\n",
       "      <td>1.0</td>\n",
       "      <td>4.800116</td>\n",
       "      <td>{'was_impossible': False}</td>\n",
       "      <td>69</td>\n",
       "      <td>0</td>\n",
       "      <td>3.800116</td>\n",
       "    </tr>\n",
       "    <tr>\n",
       "      <td>30094</td>\n",
       "      <td>A1XXMNLOLKNO0I</td>\n",
       "      <td>B000FOIYPY</td>\n",
       "      <td>1.0</td>\n",
       "      <td>4.800116</td>\n",
       "      <td>{'was_impossible': False}</td>\n",
       "      <td>69</td>\n",
       "      <td>0</td>\n",
       "      <td>3.800116</td>\n",
       "    </tr>\n",
       "    <tr>\n",
       "      <td>10194</td>\n",
       "      <td>A680RUE1FDO8B</td>\n",
       "      <td>B0015AARJI</td>\n",
       "      <td>1.0</td>\n",
       "      <td>4.803942</td>\n",
       "      <td>{'was_impossible': False}</td>\n",
       "      <td>300</td>\n",
       "      <td>22</td>\n",
       "      <td>3.803942</td>\n",
       "    </tr>\n",
       "    <tr>\n",
       "      <td>36271</td>\n",
       "      <td>A25FL6VLD7S23S</td>\n",
       "      <td>B00IUICOF8</td>\n",
       "      <td>1.0</td>\n",
       "      <td>4.825677</td>\n",
       "      <td>{'was_impossible': False}</td>\n",
       "      <td>79</td>\n",
       "      <td>9</td>\n",
       "      <td>3.825677</td>\n",
       "    </tr>\n",
       "    <tr>\n",
       "      <td>9088</td>\n",
       "      <td>AGR1V15L6FLMA</td>\n",
       "      <td>B007WTAJTO</td>\n",
       "      <td>1.0</td>\n",
       "      <td>4.827929</td>\n",
       "      <td>{'was_impossible': False}</td>\n",
       "      <td>45</td>\n",
       "      <td>110</td>\n",
       "      <td>3.827929</td>\n",
       "    </tr>\n",
       "    <tr>\n",
       "      <td>205</td>\n",
       "      <td>A35KBAQ4VBNQ6L</td>\n",
       "      <td>B00BGGDVOO</td>\n",
       "      <td>1.0</td>\n",
       "      <td>4.869325</td>\n",
       "      <td>{'was_impossible': False}</td>\n",
       "      <td>47</td>\n",
       "      <td>36</td>\n",
       "      <td>3.869325</td>\n",
       "    </tr>\n",
       "    <tr>\n",
       "      <td>9162</td>\n",
       "      <td>AZMY6E8B52L2T</td>\n",
       "      <td>B004G6002M</td>\n",
       "      <td>1.0</td>\n",
       "      <td>4.981524</td>\n",
       "      <td>{'was_impossible': False}</td>\n",
       "      <td>136</td>\n",
       "      <td>39</td>\n",
       "      <td>3.981524</td>\n",
       "    </tr>\n",
       "  </tbody>\n",
       "</table>\n",
       "</div>"
      ],
      "text/plain": [
       "                  uid         iid  rui       est                    details  \\\n",
       "18360   ACQYIC13JXAOI  B00IVPU7DG  1.0  4.781046  {'was_impossible': False}   \n",
       "219    A25TQLMIAPI1T6  B00E98O7GC  1.0  4.784054  {'was_impossible': False}   \n",
       "17245   ABE5E8B3J7MKY  B0033AF5WW  1.0  4.785512  {'was_impossible': False}   \n",
       "2615   A1XXMNLOLKNO0I  B00817ZM70  1.0  4.800116  {'was_impossible': False}   \n",
       "30094  A1XXMNLOLKNO0I  B000FOIYPY  1.0  4.800116  {'was_impossible': False}   \n",
       "10194   A680RUE1FDO8B  B0015AARJI  1.0  4.803942  {'was_impossible': False}   \n",
       "36271  A25FL6VLD7S23S  B00IUICOF8  1.0  4.825677  {'was_impossible': False}   \n",
       "9088    AGR1V15L6FLMA  B007WTAJTO  1.0  4.827929  {'was_impossible': False}   \n",
       "205    A35KBAQ4VBNQ6L  B00BGGDVOO  1.0  4.869325  {'was_impossible': False}   \n",
       "9162    AZMY6E8B52L2T  B004G6002M  1.0  4.981524  {'was_impossible': False}   \n",
       "\n",
       "        Iu   Ui       err  \n",
       "18360   64   12  3.781046  \n",
       "219     44   17  3.784054  \n",
       "17245   41    3  3.785512  \n",
       "2615    69    0  3.800116  \n",
       "30094   69    0  3.800116  \n",
       "10194  300   22  3.803942  \n",
       "36271   79    9  3.825677  \n",
       "9088    45  110  3.827929  \n",
       "205     47   36  3.869325  \n",
       "9162   136   39  3.981524  "
      ]
     },
     "execution_count": 48,
     "metadata": {},
     "output_type": "execute_result"
    }
   ],
   "source": [
    "worst_predictions"
   ]
  },
  {
   "cell_type": "code",
   "execution_count": 26,
   "metadata": {},
   "outputs": [],
   "source": [
    "### Capture the top 5 products of each user from the evoluated predictions\n",
    "K= 5\n",
    "baseline_top_n = get_top_n(baseline_only_predictions, K)"
   ]
  },
  {
   "cell_type": "code",
   "execution_count": 59,
   "metadata": {},
   "outputs": [
    {
     "name": "stdout",
     "output_type": "stream",
     "text": [
      "AJL3U764D7NI3 ['B0002LEMWE', 'B000CKVOOY', 'B009HP42HQ', 'B00AYQ433U', 'B003PHJJV6']\n",
      "A2RU4U1JZ3DMP5 ['B001TUYTZM', 'B0000BZL5A', 'B00007E89K', 'B000L47AHG', 'B002MU1ZRS']\n",
      "A84FLVDK2R5JF ['B001P05NBA', 'B005KFONIU', 'B002TLTE6O', 'B003FST9EC', 'B000O8WE66']\n",
      "A32482Z7XIKDQX ['B00GTGETFG', 'B009W34X5O', 'B009NHAEXE', 'B0030F2U82', 'B000PNGM18']\n",
      "A3A4ZAIBQWKOZS ['B0000BZL1P', 'B003ES5ZUU', 'B00COF7DGS', 'B00IX2VGFA', 'B00GO4GMAI']\n",
      "A3W4D8XOGLWUN5 ['B007WTAJTO', 'B00BOHNYTW', 'B001F7AHOG', 'B0097BEF1S', 'B0002ZAILY']\n",
      "A1E1LEVQ9VQNK ['B0082E9K7U', 'B00E3FHXYO', 'B00D50UNRM', 'B002WE4HE2', 'B003ES5ZR8']\n",
      "A1UQBFCERIP7VJ ['B004CLYEDC', 'B00G4UQ6U8', 'B00834SJSK', 'B00BB72WX4', 'B00BANM6HQ']\n",
      "APBDZ88BBTN4F ['B00IVPU59W', 'B007KZQM8W', 'B004K1EOCA', 'B001OI2YNS', 'B00FNPD1OY']\n",
      "ACY9QYNDFLVBI ['B000JMJWV2', 'B006EKIQYM', 'B001FO4QHI', 'B0093H8H8I', 'B004Z0S6RU']\n"
     ]
    }
   ],
   "source": [
    "# Print the recommended top 5 products for each user\n",
    "count = 0\n",
    "for uid, user_ratings in baseline_top_n.items():\n",
    "    count =count+1\n",
    "    print(uid, [iid for (iid, _) in user_ratings])\n",
    "    if(count==10):\n",
    "        break"
   ]
  },
  {
   "cell_type": "code",
   "execution_count": 92,
   "metadata": {},
   "outputs": [
    {
     "data": {
      "text/plain": [
       "[('B001TUYTZM', 4.528972292634269),\n",
       " ('B0000BZL5A', 4.481965461708522),\n",
       " ('B00007E89K', 4.434250587146046),\n",
       " ('B000L47AHG', 4.419144753240528),\n",
       " ('B002MU1ZRS', 4.3969027776345)]"
      ]
     },
     "execution_count": 92,
     "metadata": {},
     "output_type": "execute_result"
    }
   ],
   "source": [
    "### For example to get Top 5 recommendations for the user id A2RU4U1JZ3DMP5\n",
    "baseline_top_n['A2RU4U1JZ3DMP5']"
   ]
  },
  {
   "cell_type": "code",
   "execution_count": null,
   "metadata": {},
   "outputs": [],
   "source": []
  }
 ],
 "metadata": {
  "kernelspec": {
   "display_name": "Python 3",
   "language": "python",
   "name": "python3"
  },
  "language_info": {
   "codemirror_mode": {
    "name": "ipython",
    "version": 3
   },
   "file_extension": ".py",
   "mimetype": "text/x-python",
   "name": "python",
   "nbconvert_exporter": "python",
   "pygments_lexer": "ipython3",
   "version": "3.7.4"
  }
 },
 "nbformat": 4,
 "nbformat_minor": 2
}
